{
 "cells": [
  {
   "cell_type": "markdown",
   "metadata": {},
   "source": [
    "## Preprocesamiento 2\n",
    "\n",
    "#### Anteriormente creamos un solo dataset a partir de varios csv. En esta segunda parte llevaremos a cabo una manipulación del dataset creado, tales como eliminar NA, reemplazar valores de texto por un valor numérico, y agregar o quitar alguna información que parezca relevante o no."
   ]
  },
  {
   "cell_type": "markdown",
   "metadata": {},
   "source": [
    "### Cargo el archivo\n",
    "\n",
    "Cargo el archivo generado del preprocesamiento anterior. Cuando generamos el archivo anteriormente, éste nos agregó una columna X que contiene los números de cada fila, a esa columna la renombro por ID."
   ]
  },
  {
   "cell_type": "code",
   "execution_count": 19,
   "metadata": {
    "collapsed": true
   },
   "outputs": [],
   "source": [
    "df <- read.csv(file=\"venta_departamentos.csv\",sep=',',header=T)\n",
    "colnames(df)[colnames(df) == \"X\"] <- \"ID\""
   ]
  },
  {
   "cell_type": "code",
   "execution_count": 27,
   "metadata": {
    "collapsed": false
   },
   "outputs": [
    {
     "data": {
      "text/html": [
       "<table>\n",
       "<thead><tr><th scope=col>ID</th><th scope=col>CALLE</th><th scope=col>NUMERO</th><th scope=col>M2</th><th scope=col>DOLARES</th><th scope=col>U_S_M2</th><th scope=col>AMBIENTES</th><th scope=col>ANTIGUEDAD</th><th scope=col>BAULERA</th><th scope=col>COCHERA</th><th scope=col>BAÑOS</th><th scope=col>LAVADERO</th><th scope=col>TERRAZA</th><th scope=col>BARRIO</th><th scope=col>COMUNA</th><th scope=col>LON</th><th scope=col>LAT</th></tr></thead>\n",
       "<tbody>\n",
       "\t<tr><td>1                       </td><td>ARGERICH                </td><td>3500                    </td><td>78                      </td><td>77000                   </td><td>987.2                   </td><td>4                       </td><td>35                      </td><td>                        </td><td>                        </td><td>0                       </td><td>SI                      </td><td>BALCON                  </td><td>AGRONOMIA               </td><td>15                      </td><td>-58.49625               </td><td>-34.59508               </td></tr>\n",
       "\t<tr><td>2                       </td><td>ARGERICH                </td><td>3600                    </td><td>34                      </td><td>44000                   </td><td>1294.1                  </td><td>2                       </td><td>35                      </td><td>                        </td><td>                        </td><td>0                       </td><td>SI                      </td><td>                        </td><td>AGRONOMIA               </td><td>15                      </td><td>-58.49545               </td><td>-34.59573               </td></tr>\n",
       "\t<tr><td>3                       </td><td>ARTIGAS JOSE GERVASIO DE</td><td>4100                    </td><td>54                      </td><td>64000                   </td><td>1185.2                  </td><td>3                       </td><td>0                       </td><td>                        </td><td>                        </td><td>0                       </td><td>                        </td><td>BALCON                  </td><td>AGRONOMIA               </td><td>15                      </td><td>-58.49290               </td><td>-34.58851               </td></tr>\n",
       "\t<tr><td>4                       </td><td>ASUNCION                </td><td>2700                    </td><td>58                      </td><td>55000                   </td><td>948.3                   </td><td>3                       </td><td>40                      </td><td>                        </td><td>                        </td><td>0                       </td><td>                        </td><td>                        </td><td>AGRONOMIA               </td><td>15                      </td><td>-58.49366               </td><td>-34.58990               </td></tr>\n",
       "\t<tr><td>5                       </td><td>ASUNCION                </td><td>2800                    </td><td>46                      </td><td>54000                   </td><td>1173.9                  </td><td>2                       </td><td>47                      </td><td>                        </td><td>                        </td><td>0                       </td><td>                        </td><td>                        </td><td>AGRONOMIA               </td><td>15                      </td><td>-58.49478               </td><td>-34.59060               </td></tr>\n",
       "\t<tr><td>6                       </td><td>ASUNCION                </td><td>2800                    </td><td>67                      </td><td>68000                   </td><td>1014.9                  </td><td>4                       </td><td>25                      </td><td>                        </td><td>                        </td><td>0                       </td><td>SI                      </td><td>BALCON                  </td><td>AGRONOMIA               </td><td>15                      </td><td>-58.49478               </td><td>-34.59060               </td></tr>\n",
       "</tbody>\n",
       "</table>\n"
      ],
      "text/latex": [
       "\\begin{tabular}{r|lllllllllllllllll}\n",
       " ID & CALLE & NUMERO & M2 & DOLARES & U\\_S\\_M2 & AMBIENTES & ANTIGUEDAD & BAULERA & COCHERA & BAÑOS & LAVADERO & TERRAZA & BARRIO & COMUNA & LON & LAT\\\\\n",
       "\\hline\n",
       "\t 1                        & ARGERICH                 & 3500                     & 78                       & 77000                    & 987.2                    & 4                        & 35                       &                          &                          & 0                        & SI                       & BALCON                   & AGRONOMIA                & 15                       & -58.49625                & -34.59508               \\\\\n",
       "\t 2                        & ARGERICH                 & 3600                     & 34                       & 44000                    & 1294.1                   & 2                        & 35                       &                          &                          & 0                        & SI                       &                          & AGRONOMIA                & 15                       & -58.49545                & -34.59573               \\\\\n",
       "\t 3                        & ARTIGAS JOSE GERVASIO DE & 4100                     & 54                       & 64000                    & 1185.2                   & 3                        & 0                        &                          &                          & 0                        &                          & BALCON                   & AGRONOMIA                & 15                       & -58.49290                & -34.58851               \\\\\n",
       "\t 4                        & ASUNCION                 & 2700                     & 58                       & 55000                    & 948.3                    & 3                        & 40                       &                          &                          & 0                        &                          &                          & AGRONOMIA                & 15                       & -58.49366                & -34.58990               \\\\\n",
       "\t 5                        & ASUNCION                 & 2800                     & 46                       & 54000                    & 1173.9                   & 2                        & 47                       &                          &                          & 0                        &                          &                          & AGRONOMIA                & 15                       & -58.49478                & -34.59060               \\\\\n",
       "\t 6                        & ASUNCION                 & 2800                     & 67                       & 68000                    & 1014.9                   & 4                        & 25                       &                          &                          & 0                        & SI                       & BALCON                   & AGRONOMIA                & 15                       & -58.49478                & -34.59060               \\\\\n",
       "\\end{tabular}\n"
      ],
      "text/markdown": [
       "\n",
       "ID | CALLE | NUMERO | M2 | DOLARES | U_S_M2 | AMBIENTES | ANTIGUEDAD | BAULERA | COCHERA | BAÑOS | LAVADERO | TERRAZA | BARRIO | COMUNA | LON | LAT | \n",
       "|---|---|---|---|---|---|\n",
       "| 1                        | ARGERICH                 | 3500                     | 78                       | 77000                    | 987.2                    | 4                        | 35                       |                          |                          | 0                        | SI                       | BALCON                   | AGRONOMIA                | 15                       | -58.49625                | -34.59508                | \n",
       "| 2                        | ARGERICH                 | 3600                     | 34                       | 44000                    | 1294.1                   | 2                        | 35                       |                          |                          | 0                        | SI                       |                          | AGRONOMIA                | 15                       | -58.49545                | -34.59573                | \n",
       "| 3                        | ARTIGAS JOSE GERVASIO DE | 4100                     | 54                       | 64000                    | 1185.2                   | 3                        | 0                        |                          |                          | 0                        |                          | BALCON                   | AGRONOMIA                | 15                       | -58.49290                | -34.58851                | \n",
       "| 4                        | ASUNCION                 | 2700                     | 58                       | 55000                    | 948.3                    | 3                        | 40                       |                          |                          | 0                        |                          |                          | AGRONOMIA                | 15                       | -58.49366                | -34.58990                | \n",
       "| 5                        | ASUNCION                 | 2800                     | 46                       | 54000                    | 1173.9                   | 2                        | 47                       |                          |                          | 0                        |                          |                          | AGRONOMIA                | 15                       | -58.49478                | -34.59060                | \n",
       "| 6                        | ASUNCION                 | 2800                     | 67                       | 68000                    | 1014.9                   | 4                        | 25                       |                          |                          | 0                        | SI                       | BALCON                   | AGRONOMIA                | 15                       | -58.49478                | -34.59060                | \n",
       "\n",
       "\n"
      ],
      "text/plain": [
       "  ID CALLE                    NUMERO M2 DOLARES U_S_M2 AMBIENTES ANTIGUEDAD\n",
       "1 1  ARGERICH                 3500   78 77000   987.2  4         35        \n",
       "2 2  ARGERICH                 3600   34 44000   1294.1 2         35        \n",
       "3 3  ARTIGAS JOSE GERVASIO DE 4100   54 64000   1185.2 3         0         \n",
       "4 4  ASUNCION                 2700   58 55000   948.3  3         40        \n",
       "5 5  ASUNCION                 2800   46 54000   1173.9 2         47        \n",
       "6 6  ASUNCION                 2800   67 68000   1014.9 4         25        \n",
       "  BAULERA COCHERA BAÑOS LAVADERO TERRAZA BARRIO    COMUNA LON       LAT      \n",
       "1                 0     SI       BALCON  AGRONOMIA 15     -58.49625 -34.59508\n",
       "2                 0     SI               AGRONOMIA 15     -58.49545 -34.59573\n",
       "3                 0              BALCON  AGRONOMIA 15     -58.49290 -34.58851\n",
       "4                 0                      AGRONOMIA 15     -58.49366 -34.58990\n",
       "5                 0                      AGRONOMIA 15     -58.49478 -34.59060\n",
       "6                 0     SI       BALCON  AGRONOMIA 15     -58.49478 -34.59060"
      ]
     },
     "metadata": {},
     "output_type": "display_data"
    }
   ],
   "source": [
    "head(df)"
   ]
  },
  {
   "cell_type": "markdown",
   "metadata": {},
   "source": [
    "### Manipulando datos por columna\n",
    "\n",
    "Vamos a ir manupulando los datos columna por columna:\n",
    "\n",
    "* Latitud y longitud: Acá debemos filtrar vacíos y asegurarnos que las coordenadas tengan la parte entera con dos dígitos, y la parte decimal tenga al menos 4 dígitos. También hay que eliminar los puntos que indican los separadores de miles, salvo el de la izquierda que lo usaremos como una coma. Y también eliminar las coordenadas erroneas (se detectaron latitudes de 4700 y otros números similares). Como se observan, todas las longitudes y latitudes tienen la parte entera (-58.;-34.), por lo que nos guiamos con ambos valores, el resto lo consideramos erroneos."
   ]
  },
  {
   "cell_type": "code",
   "execution_count": 21,
   "metadata": {
    "collapsed": false
   },
   "outputs": [],
   "source": [
    "df$LON <- as.character(df$LON)\n",
    "df$LON <- gsub('\\\\.',\"\",df$LON)\n",
    "df$LON <- sub(\"(.{3})(.*)\", \"\\\\1.\\\\2\", df$LON)\n",
    "df$LON <- as.numeric(df$LON)\n",
    "\n",
    "df$LAT <- as.character(df$LAT)\n",
    "df$LAT <- gsub('\\\\.',\"\",df$LAT)\n",
    "df$LAT <- sub(\"(.{3})(.*)\", \"\\\\1.\\\\2\", df$LAT)\n",
    "df$LAT <- as.numeric(df$LAT)"
   ]
  },
  {
   "cell_type": "code",
   "execution_count": 22,
   "metadata": {
    "collapsed": false
   },
   "outputs": [],
   "source": [
    "df <- df[-59.0 < df$LON & df$LON < -58.0,]\n",
    "df <- df[-35.0 < df$LAT & df$LAT < -34.0,]\n",
    "df <- df[!is.na(df$LON),]"
   ]
  },
  {
   "cell_type": "code",
   "execution_count": 23,
   "metadata": {
    "collapsed": true
   },
   "outputs": [],
   "source": [
    "df <- df[!is.na(df$LON),]\n",
    "df <- df[!is.na(df$LAT),]"
   ]
  },
  {
   "cell_type": "code",
   "execution_count": 24,
   "metadata": {
    "collapsed": false
   },
   "outputs": [
    {
     "data": {
      "text/html": [
       "124599"
      ],
      "text/latex": [
       "124599"
      ],
      "text/markdown": [
       "124599"
      ],
      "text/plain": [
       "[1] 124599"
      ]
     },
     "metadata": {},
     "output_type": "display_data"
    }
   ],
   "source": [
    "nrow(df)"
   ]
  },
  {
   "cell_type": "code",
   "execution_count": 28,
   "metadata": {
    "collapsed": false
   },
   "outputs": [
    {
     "data": {
      "text/html": [
       "<table>\n",
       "<thead><tr><th scope=col>ID</th><th scope=col>CALLE</th><th scope=col>NUMERO</th><th scope=col>M2</th><th scope=col>DOLARES</th><th scope=col>U_S_M2</th><th scope=col>AMBIENTES</th><th scope=col>ANTIGUEDAD</th><th scope=col>BAULERA</th><th scope=col>COCHERA</th><th scope=col>BAÑOS</th><th scope=col>LAVADERO</th><th scope=col>TERRAZA</th><th scope=col>BARRIO</th><th scope=col>COMUNA</th><th scope=col>LON</th><th scope=col>LAT</th></tr></thead>\n",
       "<tbody>\n",
       "\t<tr><td>1                       </td><td>ARGERICH                </td><td>3500                    </td><td>78                      </td><td>77000                   </td><td>987.2                   </td><td>4                       </td><td>35                      </td><td>                        </td><td>                        </td><td>0                       </td><td>SI                      </td><td>BALCON                  </td><td>AGRONOMIA               </td><td>15                      </td><td>-58.49625               </td><td>-34.59508               </td></tr>\n",
       "\t<tr><td>2                       </td><td>ARGERICH                </td><td>3600                    </td><td>34                      </td><td>44000                   </td><td>1294.1                  </td><td>2                       </td><td>35                      </td><td>                        </td><td>                        </td><td>0                       </td><td>SI                      </td><td>                        </td><td>AGRONOMIA               </td><td>15                      </td><td>-58.49545               </td><td>-34.59573               </td></tr>\n",
       "\t<tr><td>3                       </td><td>ARTIGAS JOSE GERVASIO DE</td><td>4100                    </td><td>54                      </td><td>64000                   </td><td>1185.2                  </td><td>3                       </td><td>0                       </td><td>                        </td><td>                        </td><td>0                       </td><td>                        </td><td>BALCON                  </td><td>AGRONOMIA               </td><td>15                      </td><td>-58.49290               </td><td>-34.58851               </td></tr>\n",
       "\t<tr><td>4                       </td><td>ASUNCION                </td><td>2700                    </td><td>58                      </td><td>55000                   </td><td>948.3                   </td><td>3                       </td><td>40                      </td><td>                        </td><td>                        </td><td>0                       </td><td>                        </td><td>                        </td><td>AGRONOMIA               </td><td>15                      </td><td>-58.49366               </td><td>-34.58990               </td></tr>\n",
       "\t<tr><td>5                       </td><td>ASUNCION                </td><td>2800                    </td><td>46                      </td><td>54000                   </td><td>1173.9                  </td><td>2                       </td><td>47                      </td><td>                        </td><td>                        </td><td>0                       </td><td>                        </td><td>                        </td><td>AGRONOMIA               </td><td>15                      </td><td>-58.49478               </td><td>-34.59060               </td></tr>\n",
       "\t<tr><td>6                       </td><td>ASUNCION                </td><td>2800                    </td><td>67                      </td><td>68000                   </td><td>1014.9                  </td><td>4                       </td><td>25                      </td><td>                        </td><td>                        </td><td>0                       </td><td>SI                      </td><td>BALCON                  </td><td>AGRONOMIA               </td><td>15                      </td><td>-58.49478               </td><td>-34.59060               </td></tr>\n",
       "</tbody>\n",
       "</table>\n"
      ],
      "text/latex": [
       "\\begin{tabular}{r|lllllllllllllllll}\n",
       " ID & CALLE & NUMERO & M2 & DOLARES & U\\_S\\_M2 & AMBIENTES & ANTIGUEDAD & BAULERA & COCHERA & BAÑOS & LAVADERO & TERRAZA & BARRIO & COMUNA & LON & LAT\\\\\n",
       "\\hline\n",
       "\t 1                        & ARGERICH                 & 3500                     & 78                       & 77000                    & 987.2                    & 4                        & 35                       &                          &                          & 0                        & SI                       & BALCON                   & AGRONOMIA                & 15                       & -58.49625                & -34.59508               \\\\\n",
       "\t 2                        & ARGERICH                 & 3600                     & 34                       & 44000                    & 1294.1                   & 2                        & 35                       &                          &                          & 0                        & SI                       &                          & AGRONOMIA                & 15                       & -58.49545                & -34.59573               \\\\\n",
       "\t 3                        & ARTIGAS JOSE GERVASIO DE & 4100                     & 54                       & 64000                    & 1185.2                   & 3                        & 0                        &                          &                          & 0                        &                          & BALCON                   & AGRONOMIA                & 15                       & -58.49290                & -34.58851               \\\\\n",
       "\t 4                        & ASUNCION                 & 2700                     & 58                       & 55000                    & 948.3                    & 3                        & 40                       &                          &                          & 0                        &                          &                          & AGRONOMIA                & 15                       & -58.49366                & -34.58990               \\\\\n",
       "\t 5                        & ASUNCION                 & 2800                     & 46                       & 54000                    & 1173.9                   & 2                        & 47                       &                          &                          & 0                        &                          &                          & AGRONOMIA                & 15                       & -58.49478                & -34.59060               \\\\\n",
       "\t 6                        & ASUNCION                 & 2800                     & 67                       & 68000                    & 1014.9                   & 4                        & 25                       &                          &                          & 0                        & SI                       & BALCON                   & AGRONOMIA                & 15                       & -58.49478                & -34.59060               \\\\\n",
       "\\end{tabular}\n"
      ],
      "text/markdown": [
       "\n",
       "ID | CALLE | NUMERO | M2 | DOLARES | U_S_M2 | AMBIENTES | ANTIGUEDAD | BAULERA | COCHERA | BAÑOS | LAVADERO | TERRAZA | BARRIO | COMUNA | LON | LAT | \n",
       "|---|---|---|---|---|---|\n",
       "| 1                        | ARGERICH                 | 3500                     | 78                       | 77000                    | 987.2                    | 4                        | 35                       |                          |                          | 0                        | SI                       | BALCON                   | AGRONOMIA                | 15                       | -58.49625                | -34.59508                | \n",
       "| 2                        | ARGERICH                 | 3600                     | 34                       | 44000                    | 1294.1                   | 2                        | 35                       |                          |                          | 0                        | SI                       |                          | AGRONOMIA                | 15                       | -58.49545                | -34.59573                | \n",
       "| 3                        | ARTIGAS JOSE GERVASIO DE | 4100                     | 54                       | 64000                    | 1185.2                   | 3                        | 0                        |                          |                          | 0                        |                          | BALCON                   | AGRONOMIA                | 15                       | -58.49290                | -34.58851                | \n",
       "| 4                        | ASUNCION                 | 2700                     | 58                       | 55000                    | 948.3                    | 3                        | 40                       |                          |                          | 0                        |                          |                          | AGRONOMIA                | 15                       | -58.49366                | -34.58990                | \n",
       "| 5                        | ASUNCION                 | 2800                     | 46                       | 54000                    | 1173.9                   | 2                        | 47                       |                          |                          | 0                        |                          |                          | AGRONOMIA                | 15                       | -58.49478                | -34.59060                | \n",
       "| 6                        | ASUNCION                 | 2800                     | 67                       | 68000                    | 1014.9                   | 4                        | 25                       |                          |                          | 0                        | SI                       | BALCON                   | AGRONOMIA                | 15                       | -58.49478                | -34.59060                | \n",
       "\n",
       "\n"
      ],
      "text/plain": [
       "  ID CALLE                    NUMERO M2 DOLARES U_S_M2 AMBIENTES ANTIGUEDAD\n",
       "1 1  ARGERICH                 3500   78 77000   987.2  4         35        \n",
       "2 2  ARGERICH                 3600   34 44000   1294.1 2         35        \n",
       "3 3  ARTIGAS JOSE GERVASIO DE 4100   54 64000   1185.2 3         0         \n",
       "4 4  ASUNCION                 2700   58 55000   948.3  3         40        \n",
       "5 5  ASUNCION                 2800   46 54000   1173.9 2         47        \n",
       "6 6  ASUNCION                 2800   67 68000   1014.9 4         25        \n",
       "  BAULERA COCHERA BAÑOS LAVADERO TERRAZA BARRIO    COMUNA LON       LAT      \n",
       "1                 0     SI       BALCON  AGRONOMIA 15     -58.49625 -34.59508\n",
       "2                 0     SI               AGRONOMIA 15     -58.49545 -34.59573\n",
       "3                 0              BALCON  AGRONOMIA 15     -58.49290 -34.58851\n",
       "4                 0                      AGRONOMIA 15     -58.49366 -34.58990\n",
       "5                 0                      AGRONOMIA 15     -58.49478 -34.59060\n",
       "6                 0     SI       BALCON  AGRONOMIA 15     -58.49478 -34.59060"
      ]
     },
     "metadata": {},
     "output_type": "display_data"
    }
   ],
   "source": [
    "head(df)"
   ]
  }
 ],
 "metadata": {
  "kernelspec": {
   "display_name": "R",
   "language": "R",
   "name": "ir"
  },
  "language_info": {
   "codemirror_mode": "r",
   "file_extension": ".r",
   "mimetype": "text/x-r-source",
   "name": "R",
   "pygments_lexer": "r",
   "version": "3.3.2"
  }
 },
 "nbformat": 4,
 "nbformat_minor": 2
}
