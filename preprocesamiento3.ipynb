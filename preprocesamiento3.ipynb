{
 "cells": [
  {
   "cell_type": "markdown",
   "metadata": {},
   "source": [
    "## Preprocesamiento 3\n",
    "\n",
    "#### En este preprocesamiento agregaremos los lugares cercanos a cada departamento, ya sean paradas de colectivo, subtes, trenes, farmacias, centros de salud, comisarías, etc."
   ]
  },
  {
   "cell_type": "code",
   "execution_count": 1,
   "metadata": {
    "collapsed": true
   },
   "outputs": [],
   "source": [
    "df <- read.csv(file=\"venta_departamentos_v2.csv\",sep=',',header=T)"
   ]
  },
  {
   "cell_type": "code",
   "execution_count": 32,
   "metadata": {
    "collapsed": true
   },
   "outputs": [],
   "source": [
    "umbral <- 5"
   ]
  },
  {
   "cell_type": "markdown",
   "metadata": {},
   "source": [
    "### Centros de salud cercanos\n",
    "\n",
    "Abarca pequeños consultorios o clínicas"
   ]
  },
  {
   "cell_type": "code",
   "execution_count": 2,
   "metadata": {
    "collapsed": false
   },
   "outputs": [],
   "source": [
    "salud_privados <- read.csv(file=\"centros-de-salud-privados.csv\",sep=';',header=T)\n",
    "salud_privados_2 <- read.csv(file=\"centros-de-salud-y-accion-comunitaria.csv\",sep=';',header=T)\n",
    "salud_privados_3 <- read.csv(file=\"centros-medicos-barriales.csv\",sep=';',header=T)"
   ]
  },
  {
   "cell_type": "code",
   "execution_count": 3,
   "metadata": {
    "collapsed": true
   },
   "outputs": [],
   "source": [
    "colnames(salud_privados_3)[colnames(salud_privados_3) == \"X\"] <- \"LON\"\n",
    "colnames(salud_privados_3)[colnames(salud_privados_3) == \"Y\"] <- \"LAT\"\n",
    "colnames(salud_privados_2)[colnames(salud_privados_2) == \"X\"] <- \"LON\"\n",
    "colnames(salud_privados_2)[colnames(salud_privados_2) == \"Y\"] <- \"LAT\"\n",
    "colnames(salud_privados)[colnames(salud_privados) == \"LNG\"] <- \"LON\"\n",
    "colnames(salud_privados)[colnames(salud_privados) == \"LAT\"] <- \"LAT\""
   ]
  },
  {
   "cell_type": "code",
   "execution_count": 4,
   "metadata": {
    "collapsed": false
   },
   "outputs": [],
   "source": [
    "salud <- rbind(salud_privados[,c('LAT','LON')],salud_privados_2[,c('LAT','LON')],salud_privados_3[,c('LAT','LON')])"
   ]
  },
  {
   "cell_type": "code",
   "execution_count": 5,
   "metadata": {
    "collapsed": false
   },
   "outputs": [],
   "source": [
    "salud$LON <- as.character(salud$LON)\n",
    "salud$LON <- gsub('\\\\,',\"\",salud$LON)\n",
    "salud$LON <- sub(\"(.{3})(.*)\", \"\\\\1.\\\\2\", salud$LON)\n",
    "salud$LON <- as.numeric(salud$LON)\n",
    "\n",
    "salud$LAT <- as.character(salud$LAT)\n",
    "salud$LAT <- gsub('\\\\,',\"\",salud$LAT)\n",
    "salud$LAT <- sub(\"(.{3})(.*)\", \"\\\\1.\\\\2\", salud$LAT)\n",
    "salud$LAT <- as.numeric(salud$LAT)"
   ]
  },
  {
   "cell_type": "code",
   "execution_count": 6,
   "metadata": {
    "collapsed": false
   },
   "outputs": [],
   "source": [
    "salud <- salud[!is.na(salud$LON),]"
   ]
  },
  {
   "cell_type": "code",
   "execution_count": 7,
   "metadata": {
    "collapsed": false
   },
   "outputs": [],
   "source": [
    "salud$LAT <- sapply(salud$LAT, function(x) x*1000)\n",
    "salud$LON <- sapply(salud$LON, function(x) x*1000)"
   ]
  },
  {
   "cell_type": "code",
   "execution_count": 8,
   "metadata": {
    "collapsed": true
   },
   "outputs": [],
   "source": [
    "df$LAT_c <- sapply(df$LAT, function(x) x*1000)\n",
    "df$LON_c <- sapply(df$LON, function(x) x*1000)"
   ]
  },
  {
   "cell_type": "code",
   "execution_count": 58,
   "metadata": {
    "collapsed": false
   },
   "outputs": [],
   "source": [
    "cant <- 0\n",
    "for (j in seq(1:nrow(df))){\n",
    "    lat_df <- df$LAT_c[j]\n",
    "    lon_df <- df$LON_c[j]\n",
    "    lat1 <- lat_df - 10\n",
    "    lat2 <- lat_df + 10\n",
    "    lon1 <- lon_df - 10\n",
    "    lon2 <- lon_df + 10\n",
    "    df_filtr <- salud[(lat1 < salud$LAT) & (salud$LAT < lat2),]\n",
    "    df_filtr <- df_filtr[(lon1 < df_filtr$LON) & (df_filtr$LON < lon2),]\n",
    "    dist <- 0\n",
    "    for (i in seq(1:length(df_filtr$LAT))){\n",
    "        lat_lugar <- df_filtr$LAT[i]\n",
    "        lon_lugar <- df_filtr$LON[i]\n",
    "        x <- (lat_df - lat_lugar)^2\n",
    "        y <- (lon_df - lon_lugar)^2\n",
    "        dist[i] <- sqrt(x+y)\n",
    "    }\n",
    "    cant[j] <- length(dist[dist < umbral])\n",
    "}"
   ]
  },
  {
   "cell_type": "code",
   "execution_count": 61,
   "metadata": {
    "collapsed": false
   },
   "outputs": [],
   "source": [
    "df$CENTROS_SALUD_CERCANOS <- cant"
   ]
  },
  {
   "cell_type": "markdown",
   "metadata": {},
   "source": [
    "### Comisarías cercanas\n",
    "\n",
    "Abarca las comisarías cercanas"
   ]
  },
  {
   "cell_type": "code",
   "execution_count": 64,
   "metadata": {
    "collapsed": true
   },
   "outputs": [],
   "source": [
    "comisarias <- read.csv(file=\"comisarias.csv\",sep=';',header=T)"
   ]
  },
  {
   "cell_type": "code",
   "execution_count": 68,
   "metadata": {
    "collapsed": false
   },
   "outputs": [],
   "source": [
    "colnames(comisarias)[colnames(comisarias) == \"X\"] <- \"LON\"\n",
    "colnames(comisarias)[colnames(comisarias) == \"Y\"] <- \"LAT\""
   ]
  },
  {
   "cell_type": "code",
   "execution_count": 71,
   "metadata": {
    "collapsed": false
   },
   "outputs": [],
   "source": [
    "comisarias$LON <- as.character(comisarias$LON)\n",
    "comisarias$LON <- gsub('\\\\,',\"\",comisarias$LON)\n",
    "comisarias$LON <- sub(\"(.{3})(.*)\", \"\\\\1.\\\\2\", comisarias$LON)\n",
    "comisarias$LON <- as.numeric(comisarias$LON)\n",
    "\n",
    "comisarias$LAT <- as.character(comisarias$LAT)\n",
    "comisarias$LAT <- gsub('\\\\,',\"\",comisarias$LAT)\n",
    "comisarias$LAT <- sub(\"(.{3})(.*)\", \"\\\\1.\\\\2\", comisarias$LAT)\n",
    "comisarias$LAT <- as.numeric(comisarias$LAT)"
   ]
  },
  {
   "cell_type": "code",
   "execution_count": 77,
   "metadata": {
    "collapsed": false
   },
   "outputs": [],
   "source": [
    "comisarias$LAT <- sapply(comisarias$LAT, function(x) x*1000)\n",
    "comisarias$LON <- sapply(comisarias$LON, function(x) x*1000)"
   ]
  },
  {
   "cell_type": "code",
   "execution_count": 80,
   "metadata": {
    "collapsed": false
   },
   "outputs": [],
   "source": [
    "cant <- 0\n",
    "for (j in seq(1:nrow(df))){\n",
    "    lat_df <- df$LAT_c[j]\n",
    "    lon_df <- df$LON_c[j]\n",
    "    lat1 <- lat_df - 10\n",
    "    lat2 <- lat_df + 10\n",
    "    lon1 <- lon_df - 10\n",
    "    lon2 <- lon_df + 10\n",
    "    df_filtr <- comisarias[(lat1 < comisarias$LAT) & (comisarias$LAT < lat2),]\n",
    "    df_filtr <- df_filtr[(lon1 < df_filtr$LON) & (df_filtr$LON < lon2),]\n",
    "    dist <- 0\n",
    "    for (i in seq(1:length(df_filtr$LAT))){\n",
    "        lat_lugar <- df_filtr$LAT[i]\n",
    "        lon_lugar <- df_filtr$LON[i]\n",
    "        x <- (lat_df - lat_lugar)^2\n",
    "        y <- (lon_df - lon_lugar)^2\n",
    "        dist[i] <- sqrt(x+y)\n",
    "    }\n",
    "    cant[j] <- length(dist[dist < umbral])\n",
    "}"
   ]
  },
  {
   "cell_type": "code",
   "execution_count": 86,
   "metadata": {
    "collapsed": false
   },
   "outputs": [],
   "source": [
    "df$COMISARIAS_CERCANAS <- cant"
   ]
  },
  {
   "cell_type": "markdown",
   "metadata": {},
   "source": [
    "### Establecimientos educativos cercanos\n",
    "\n",
    "Abarca jardín de infantes, escuelas primarias y secundarias, e institutos"
   ]
  },
  {
   "cell_type": "code",
   "execution_count": 99,
   "metadata": {
    "collapsed": false
   },
   "outputs": [],
   "source": [
    "educacion <- read.csv(file=\"establecimientos-educativos.csv\",sep=';',header=T)"
   ]
  },
  {
   "cell_type": "code",
   "execution_count": 100,
   "metadata": {
    "collapsed": false
   },
   "outputs": [],
   "source": [
    "colnames(educacion)[colnames(educacion) == \"X\"] <- \"LON\"\n",
    "colnames(educacion)[colnames(educacion) == \"Y\"] <- \"LAT\""
   ]
  },
  {
   "cell_type": "code",
   "execution_count": 106,
   "metadata": {
    "collapsed": false
   },
   "outputs": [],
   "source": [
    "educacion$LAT <- sapply(educacion$LAT, function(x) x*1000)\n",
    "educacion$LON <- sapply(educacion$LON, function(x) x*1000)"
   ]
  },
  {
   "cell_type": "code",
   "execution_count": 108,
   "metadata": {
    "collapsed": false
   },
   "outputs": [],
   "source": [
    "cant <- 0\n",
    "for (j in seq(1:nrow(df))){\n",
    "    lat_df <- df$LAT_c[j]\n",
    "    lon_df <- df$LON_c[j]\n",
    "    lat1 <- lat_df - 10\n",
    "    lat2 <- lat_df + 10\n",
    "    lon1 <- lon_df - 10\n",
    "    lon2 <- lon_df + 10\n",
    "    df_filtr <- educacion[(lat1 < educacion$LAT) & (educacion$LAT < lat2),]\n",
    "    df_filtr <- df_filtr[(lon1 < df_filtr$LON) & (df_filtr$LON < lon2),]\n",
    "    dist <- 0\n",
    "    for (i in seq(1:length(df_filtr$LAT))){\n",
    "        lat_lugar <- df_filtr$LAT[i]\n",
    "        lon_lugar <- df_filtr$LON[i]\n",
    "        x <- (lat_df - lat_lugar)^2\n",
    "        y <- (lon_df - lon_lugar)^2\n",
    "        dist[i] <- sqrt(x+y)\n",
    "    }\n",
    "    cant[j] <- length(dist[dist < umbral])\n",
    "}"
   ]
  },
  {
   "cell_type": "code",
   "execution_count": 109,
   "metadata": {
    "collapsed": true
   },
   "outputs": [],
   "source": [
    "df$ESTABLECIMIENTOS_EDUCATIVOS_CERCANOS <- cant"
   ]
  },
  {
   "cell_type": "markdown",
   "metadata": {},
   "source": [
    "### Guardado de seguridad"
   ]
  },
  {
   "cell_type": "code",
   "execution_count": 216,
   "metadata": {
    "collapsed": true
   },
   "outputs": [],
   "source": [
    "write.csv(df, file = \"venta_departamentos_v3.csv\")"
   ]
  },
  {
   "cell_type": "markdown",
   "metadata": {},
   "source": [
    "### Estaciones de subte\n",
    "\n",
    "Asignamos la cantidad de estaciones de subte cercanas"
   ]
  },
  {
   "cell_type": "code",
   "execution_count": 116,
   "metadata": {
    "collapsed": true
   },
   "outputs": [],
   "source": [
    "subte <- read.csv(file=\"estaciones-de-subte.csv\",sep=',',header=T)"
   ]
  },
  {
   "cell_type": "code",
   "execution_count": 120,
   "metadata": {
    "collapsed": true
   },
   "outputs": [],
   "source": [
    "colnames(subte)[colnames(subte) == \"X\"] <- \"LON\"\n",
    "colnames(subte)[colnames(subte) == \"Y\"] <- \"LAT\""
   ]
  },
  {
   "cell_type": "code",
   "execution_count": 122,
   "metadata": {
    "collapsed": true
   },
   "outputs": [],
   "source": [
    "subte$LAT <- sapply(subte$LAT, function(x) x*1000)\n",
    "subte$LON <- sapply(subte$LON, function(x) x*1000)"
   ]
  },
  {
   "cell_type": "code",
   "execution_count": 124,
   "metadata": {
    "collapsed": false
   },
   "outputs": [],
   "source": [
    "cant <- 0\n",
    "for (j in seq(1:nrow(df))){\n",
    "    lat_df <- df$LAT_c[j]\n",
    "    lon_df <- df$LON_c[j]\n",
    "    lat1 <- lat_df - 10\n",
    "    lat2 <- lat_df + 10\n",
    "    lon1 <- lon_df - 10\n",
    "    lon2 <- lon_df + 10\n",
    "    df_filtr <- subte[(lat1 < subte$LAT) & (subte$LAT < lat2),]\n",
    "    df_filtr <- df_filtr[(lon1 < df_filtr$LON) & (df_filtr$LON < lon2),]\n",
    "    dist <- 0\n",
    "    for (i in seq(1:length(df_filtr$LAT))){\n",
    "        lat_lugar <- df_filtr$LAT[i]\n",
    "        lon_lugar <- df_filtr$LON[i]\n",
    "        x <- (lat_df - lat_lugar)^2\n",
    "        y <- (lon_df - lon_lugar)^2\n",
    "        dist[i] <- sqrt(x+y)\n",
    "    }\n",
    "    cant[j] <- length(dist[dist < umbral])\n",
    "}"
   ]
  },
  {
   "cell_type": "code",
   "execution_count": 125,
   "metadata": {
    "collapsed": true
   },
   "outputs": [],
   "source": [
    "df$SUBTES_CERCANOS <- cant"
   ]
  },
  {
   "cell_type": "markdown",
   "metadata": {},
   "source": [
    "### Estaciones de metrobus\n",
    "\n",
    "Asignamos la cantidad de estaciones de metrobus más cercanos"
   ]
  },
  {
   "cell_type": "code",
   "execution_count": 149,
   "metadata": {
    "collapsed": true
   },
   "outputs": [],
   "source": [
    "metrobus <- read.csv(file=\"estaciones-de-metrobus.csv\",sep=';',header=T)"
   ]
  },
  {
   "cell_type": "code",
   "execution_count": 151,
   "metadata": {
    "collapsed": true
   },
   "outputs": [],
   "source": [
    "colnames(metrobus)[colnames(metrobus) == \"X\"] <- \"LON\"\n",
    "colnames(metrobus)[colnames(metrobus) == \"Y\"] <- \"LAT\""
   ]
  },
  {
   "cell_type": "code",
   "execution_count": 153,
   "metadata": {
    "collapsed": true
   },
   "outputs": [],
   "source": [
    "metrobus$LAT <- sapply(metrobus$LAT, function(x) x*1000)\n",
    "metrobus$LON <- sapply(metrobus$LON, function(x) x*1000)"
   ]
  },
  {
   "cell_type": "code",
   "execution_count": 155,
   "metadata": {
    "collapsed": true
   },
   "outputs": [],
   "source": [
    "cant <- 0\n",
    "for (j in seq(1:nrow(df))){\n",
    "    lat_df <- df$LAT_c[j]\n",
    "    lon_df <- df$LON_c[j]\n",
    "    lat1 <- lat_df - 10\n",
    "    lat2 <- lat_df + 10\n",
    "    lon1 <- lon_df - 10\n",
    "    lon2 <- lon_df + 10\n",
    "    df_filtr <- metrobus[(lat1 < metrobus$LAT) & (metrobus$LAT < lat2),]\n",
    "    df_filtr <- df_filtr[(lon1 < df_filtr$LON) & (df_filtr$LON < lon2),]\n",
    "    dist <- 0\n",
    "    for (i in seq(1:length(df_filtr$LAT))){\n",
    "        lat_lugar <- df_filtr$LAT[i]\n",
    "        lon_lugar <- df_filtr$LON[i]\n",
    "        x <- (lat_df - lat_lugar)^2\n",
    "        y <- (lon_df - lon_lugar)^2\n",
    "        dist[i] <- sqrt(x+y)\n",
    "    }\n",
    "    cant[j] <- length(dist[dist < umbral])\n",
    "}"
   ]
  },
  {
   "cell_type": "code",
   "execution_count": 156,
   "metadata": {
    "collapsed": true
   },
   "outputs": [],
   "source": [
    "df$METROBUS_CERCANOS <- cant"
   ]
  },
  {
   "cell_type": "markdown",
   "metadata": {},
   "source": [
    "### Estaciones de ferrocarril\n",
    "\n",
    "Abarca las estaciones de trenes de todos los ramales"
   ]
  },
  {
   "cell_type": "code",
   "execution_count": 161,
   "metadata": {
    "collapsed": true
   },
   "outputs": [],
   "source": [
    "ferrocarril <- read.csv(file=\"estaciones-de-ferrocarril.csv\",sep=';',header=T)"
   ]
  },
  {
   "cell_type": "code",
   "execution_count": 163,
   "metadata": {
    "collapsed": true
   },
   "outputs": [],
   "source": [
    "colnames(ferrocarril)[colnames(ferrocarril) == \"LNG\"] <- \"LON\"\n",
    "colnames(ferrocarril)[colnames(ferrocarril) == \"LAT\"] <- \"LAT\""
   ]
  },
  {
   "cell_type": "code",
   "execution_count": 165,
   "metadata": {
    "collapsed": true
   },
   "outputs": [],
   "source": [
    "ferrocarril$LAT <- sapply(ferrocarril$LAT, function(x) x*1000)\n",
    "ferrocarril$LON <- sapply(ferrocarril$LON, function(x) x*1000)"
   ]
  },
  {
   "cell_type": "code",
   "execution_count": 167,
   "metadata": {
    "collapsed": false
   },
   "outputs": [],
   "source": [
    "cant <- 0\n",
    "for (j in seq(1:nrow(df))){\n",
    "    lat_df <- df$LAT_c[j]\n",
    "    lon_df <- df$LON_c[j]\n",
    "    lat1 <- lat_df - 10\n",
    "    lat2 <- lat_df + 10\n",
    "    lon1 <- lon_df - 10\n",
    "    lon2 <- lon_df + 10\n",
    "    df_filtr <- ferrocarril[(lat1 < ferrocarril$LAT) & (ferrocarril$LAT < lat2),]\n",
    "    df_filtr <- df_filtr[(lon1 < df_filtr$LON) & (df_filtr$LON < lon2),]\n",
    "    dist <- 0\n",
    "    for (i in seq(1:length(df_filtr$LAT))){\n",
    "        lat_lugar <- df_filtr$LAT[i]\n",
    "        lon_lugar <- df_filtr$LON[i]\n",
    "        x <- (lat_df - lat_lugar)^2\n",
    "        y <- (lon_df - lon_lugar)^2\n",
    "        dist[i] <- sqrt(x+y)\n",
    "    }\n",
    "    cant[j] <- length(dist[dist < umbral])\n",
    "}"
   ]
  },
  {
   "cell_type": "code",
   "execution_count": 168,
   "metadata": {
    "collapsed": true
   },
   "outputs": [],
   "source": [
    "df$TRENES_CERCANOS <- cant"
   ]
  },
  {
   "cell_type": "markdown",
   "metadata": {},
   "source": [
    "### Clubes cercanos\n",
    "\n",
    "Abarca los lugares deportivos cercanos para entrenar"
   ]
  },
  {
   "cell_type": "code",
   "execution_count": 174,
   "metadata": {
    "collapsed": true
   },
   "outputs": [],
   "source": [
    "clubes <- read.csv(file=\"clubes.csv\",sep=';',header=T)"
   ]
  },
  {
   "cell_type": "code",
   "execution_count": 177,
   "metadata": {
    "collapsed": true
   },
   "outputs": [],
   "source": [
    "colnames(clubes)[colnames(clubes) == \"X\"] <- \"LON\"\n",
    "colnames(clubes)[colnames(clubes) == \"Y\"] <- \"LAT\""
   ]
  },
  {
   "cell_type": "code",
   "execution_count": 178,
   "metadata": {
    "collapsed": false
   },
   "outputs": [],
   "source": [
    "clubes$LAT <- sapply(clubes$LAT, function(x) x*1000)\n",
    "clubes$LON <- sapply(clubes$LON, function(x) x*1000)"
   ]
  },
  {
   "cell_type": "code",
   "execution_count": 180,
   "metadata": {
    "collapsed": false
   },
   "outputs": [],
   "source": [
    "cant <- 0\n",
    "for (j in seq(1:nrow(df))){\n",
    "    lat_df <- df$LAT_c[j]\n",
    "    lon_df <- df$LON_c[j]\n",
    "    lat1 <- lat_df - 10\n",
    "    lat2 <- lat_df + 10\n",
    "    lon1 <- lon_df - 10\n",
    "    lon2 <- lon_df + 10\n",
    "    df_filtr <- clubes[(lat1 < clubes$LAT) & (clubes$LAT < lat2),]\n",
    "    df_filtr <- df_filtr[(lon1 < df_filtr$LON) & (df_filtr$LON < lon2),]\n",
    "    dist <- 0\n",
    "    for (i in seq(1:length(df_filtr$LAT))){\n",
    "        lat_lugar <- df_filtr$LAT[i]\n",
    "        lon_lugar <- df_filtr$LON[i]\n",
    "        x <- (lat_df - lat_lugar)^2\n",
    "        y <- (lon_df - lon_lugar)^2\n",
    "        dist[i] <- sqrt(x+y)\n",
    "    }\n",
    "    cant[j] <- length(dist[dist < umbral])\n",
    "}"
   ]
  },
  {
   "cell_type": "code",
   "execution_count": 181,
   "metadata": {
    "collapsed": true
   },
   "outputs": [],
   "source": [
    "df$CLUBES_CERCANOS <- cant"
   ]
  },
  {
   "cell_type": "markdown",
   "metadata": {},
   "source": [
    "### Hospitales cercanos\n",
    "\n",
    "Abarca los hospitales cercanos"
   ]
  },
  {
   "cell_type": "code",
   "execution_count": 193,
   "metadata": {
    "collapsed": true
   },
   "outputs": [],
   "source": [
    "hospitales <- read.csv(file=\"hospitales.csv\",sep=';',header=T)"
   ]
  },
  {
   "cell_type": "code",
   "execution_count": 195,
   "metadata": {
    "collapsed": true
   },
   "outputs": [],
   "source": [
    "colnames(hospitales)[colnames(hospitales) == \"LNG\"] <- \"LON\"\n",
    "colnames(hospitales)[colnames(hospitales) == \"LAT\"] <- \"LAT\""
   ]
  },
  {
   "cell_type": "code",
   "execution_count": 197,
   "metadata": {
    "collapsed": true
   },
   "outputs": [],
   "source": [
    "hospitales$LAT <- sapply(hospitales$LAT, function(x) x*1000)\n",
    "hospitales$LON <- sapply(hospitales$LON, function(x) x*1000)"
   ]
  },
  {
   "cell_type": "code",
   "execution_count": 199,
   "metadata": {
    "collapsed": true
   },
   "outputs": [],
   "source": [
    "cant <- 0\n",
    "for (j in seq(1:nrow(df))){\n",
    "    lat_df <- df$LAT_c[j]\n",
    "    lon_df <- df$LON_c[j]\n",
    "    lat1 <- lat_df - 10\n",
    "    lat2 <- lat_df + 10\n",
    "    lon1 <- lon_df - 10\n",
    "    lon2 <- lon_df + 10\n",
    "    df_filtr <- hospitales[(lat1 < hospitales$LAT) & (hospitales$LAT < lat2),]\n",
    "    df_filtr <- df_filtr[(lon1 < df_filtr$LON) & (df_filtr$LON < lon2),]\n",
    "    dist <- 0\n",
    "    for (i in seq(1:length(df_filtr$LAT))){\n",
    "        lat_lugar <- df_filtr$LAT[i]\n",
    "        lon_lugar <- df_filtr$LON[i]\n",
    "        x <- (lat_df - lat_lugar)^2\n",
    "        y <- (lon_df - lon_lugar)^2\n",
    "        dist[i] <- sqrt(x+y)\n",
    "    }\n",
    "    cant[j] <- length(dist[dist < umbral])\n",
    "}"
   ]
  },
  {
   "cell_type": "code",
   "execution_count": 200,
   "metadata": {
    "collapsed": true
   },
   "outputs": [],
   "source": [
    "df$HOSPITALES_CERCANOS <- cant"
   ]
  },
  {
   "cell_type": "markdown",
   "metadata": {},
   "source": [
    "### Cuarteles y destacamentos de bomberos\n",
    "\n",
    "Abarca todas las estaciones de bomberos"
   ]
  },
  {
   "cell_type": "code",
   "execution_count": 205,
   "metadata": {
    "collapsed": true
   },
   "outputs": [],
   "source": [
    "dbomberos <- read.csv(file=\"cuarteles-y-destacamentos-de-bomberos-de-policia-federal-argentina.csv\",sep=';',header=T)"
   ]
  },
  {
   "cell_type": "code",
   "execution_count": 207,
   "metadata": {
    "collapsed": false
   },
   "outputs": [],
   "source": [
    "colnames(dbomberos)[colnames(dbomberos) == \"LNG\"] <- \"LON\"\n",
    "colnames(dbomberos)[colnames(dbomberos) == \"LAT\"] <- \"LAT\""
   ]
  },
  {
   "cell_type": "code",
   "execution_count": 208,
   "metadata": {
    "collapsed": true
   },
   "outputs": [],
   "source": [
    "dbomberos$LAT <- sapply(dbomberos$LAT, function(x) x*1000)\n",
    "dbomberos$LON <- sapply(dbomberos$LON, function(x) x*1000)"
   ]
  },
  {
   "cell_type": "code",
   "execution_count": 210,
   "metadata": {
    "collapsed": false
   },
   "outputs": [],
   "source": [
    "cant <- 0\n",
    "for (j in seq(1:nrow(df))){\n",
    "    lat_df <- df$LAT_c[j]\n",
    "    lon_df <- df$LON_c[j]\n",
    "    lat1 <- lat_df - 10\n",
    "    lat2 <- lat_df + 10\n",
    "    lon1 <- lon_df - 10\n",
    "    lon2 <- lon_df + 10\n",
    "    df_filtr <- dbomberos[(lat1 < dbomberos$LAT) & (dbomberos$LAT < lat2),]\n",
    "    df_filtr <- df_filtr[(lon1 < df_filtr$LON) & (df_filtr$LON < lon2),]\n",
    "    dist <- 0\n",
    "    for (i in seq(1:length(df_filtr$LAT))){\n",
    "        lat_lugar <- df_filtr$LAT[i]\n",
    "        lon_lugar <- df_filtr$LON[i]\n",
    "        x <- (lat_df - lat_lugar)^2\n",
    "        y <- (lon_df - lon_lugar)^2\n",
    "        dist[i] <- sqrt(x+y)\n",
    "    }\n",
    "    cant[j] <- length(dist[dist < umbral])\n",
    "}"
   ]
  },
  {
   "cell_type": "code",
   "execution_count": 211,
   "metadata": {
    "collapsed": true
   },
   "outputs": [],
   "source": [
    "df$DBOMBEROS_CERCANOS <- cant"
   ]
  },
  {
   "cell_type": "markdown",
   "metadata": {},
   "source": [
    "### Guardado de seguridad"
   ]
  },
  {
   "cell_type": "code",
   "execution_count": 24,
   "metadata": {
    "collapsed": true
   },
   "outputs": [],
   "source": [
    "write.csv(df, file = \"venta_departamentos_v3.csv\")"
   ]
  },
  {
   "cell_type": "markdown",
   "metadata": {},
   "source": [
    "### Reanudando la ejecución"
   ]
  },
  {
   "cell_type": "code",
   "execution_count": 80,
   "metadata": {
    "collapsed": true
   },
   "outputs": [],
   "source": [
    "df <- read.csv(file=\"venta_departamentos_v3.csv\",sep=',',header=T)"
   ]
  },
  {
   "cell_type": "code",
   "execution_count": 81,
   "metadata": {
    "collapsed": true
   },
   "outputs": [],
   "source": [
    "umbral <- 5"
   ]
  },
  {
   "cell_type": "markdown",
   "metadata": {},
   "source": [
    "### Paradas de colectivo\n",
    "\n",
    "Abarca las paradas de colectivo de todas las lineas"
   ]
  },
  {
   "cell_type": "code",
   "execution_count": 3,
   "metadata": {
    "collapsed": true
   },
   "outputs": [],
   "source": [
    "colectivo <- read.csv(file=\"paradas-de-colectivo.csv\",sep=';',header=T)"
   ]
  },
  {
   "cell_type": "code",
   "execution_count": 4,
   "metadata": {
    "collapsed": true
   },
   "outputs": [],
   "source": [
    "colnames(colectivo)[colnames(colectivo) == \"X\"] <- \"LON\"\n",
    "colnames(colectivo)[colnames(colectivo) == \"Y\"] <- \"LAT\""
   ]
  },
  {
   "cell_type": "code",
   "execution_count": 5,
   "metadata": {
    "collapsed": false
   },
   "outputs": [],
   "source": [
    "colectivo$LON <- as.character(colectivo$LON)\n",
    "colectivo$LON <- gsub('\\\\,',\"\",colectivo$LON)\n",
    "colectivo$LON <- sub(\"(.{3})(.*)\", \"\\\\1.\\\\2\", colectivo$LON)\n",
    "colectivo$LON <- as.numeric(colectivo$LON)\n",
    "\n",
    "colectivo$LAT <- as.character(colectivo$LAT)\n",
    "colectivo$LAT <- gsub('\\\\,',\"\",colectivo$LAT)\n",
    "colectivo$LAT <- sub(\"(.{3})(.*)\", \"\\\\1.\\\\2\", colectivo$LAT)\n",
    "colectivo$LAT <- as.numeric(colectivo$LAT)"
   ]
  },
  {
   "cell_type": "code",
   "execution_count": 6,
   "metadata": {
    "collapsed": true
   },
   "outputs": [],
   "source": [
    "colectivo$LAT <- sapply(colectivo$LAT, function(x) x*1000)\n",
    "colectivo$LON <- sapply(colectivo$LON, function(x) x*1000)"
   ]
  },
  {
   "cell_type": "code",
   "execution_count": 7,
   "metadata": {
    "collapsed": false
   },
   "outputs": [],
   "source": [
    "cant <- 0\n",
    "for (j in seq(1:nrow(df))){\n",
    "    lat_df <- df$LAT_c[j]\n",
    "    lon_df <- df$LON_c[j]\n",
    "    lat1 <- lat_df - 10\n",
    "    lat2 <- lat_df + 10\n",
    "    lon1 <- lon_df - 10\n",
    "    lon2 <- lon_df + 10\n",
    "    df_filtr <- colectivo[(lat1 < colectivo$LAT) & (colectivo$LAT < lat2),]\n",
    "    df_filtr <- df_filtr[(lon1 < df_filtr$LON) & (df_filtr$LON < lon2),]\n",
    "    dist <- 0\n",
    "    for (i in seq(1:length(df_filtr$LAT))){\n",
    "        lat_lugar <- df_filtr$LAT[i]\n",
    "        lon_lugar <- df_filtr$LON[i]\n",
    "        x <- (lat_df - lat_lugar)^2\n",
    "        y <- (lon_df - lon_lugar)^2\n",
    "        dist[i] <- sqrt(x+y)\n",
    "    }\n",
    "    cant[j] <- length(dist[dist < umbral])\n",
    "}"
   ]
  },
  {
   "cell_type": "code",
   "execution_count": 8,
   "metadata": {
    "collapsed": true
   },
   "outputs": [],
   "source": [
    "df$COLECTIVOS_CERCANOS <- cant"
   ]
  },
  {
   "cell_type": "markdown",
   "metadata": {},
   "source": [
    "### Dependencias culturales\n",
    "\n",
    "Abarca bares, teatros, bibliotecas y centros culturales cercanos"
   ]
  },
  {
   "cell_type": "code",
   "execution_count": 50,
   "metadata": {
    "collapsed": false
   },
   "outputs": [],
   "source": [
    "cultura <- read.csv(file=\"dependencias-culturales.csv\",sep=';',header=T)"
   ]
  },
  {
   "cell_type": "code",
   "execution_count": 54,
   "metadata": {
    "collapsed": true
   },
   "outputs": [],
   "source": [
    "colnames(cultura)[colnames(cultura) == \"Y\"] <- \"LON\"\n",
    "colnames(cultura)[colnames(cultura) == \"X\"] <- \"LAT\""
   ]
  },
  {
   "cell_type": "code",
   "execution_count": 56,
   "metadata": {
    "collapsed": true
   },
   "outputs": [],
   "source": [
    "cultura$LAT <- sapply(cultura$LAT, function(x) x*1000)\n",
    "cultura$LON <- sapply(cultura$LON, function(x) x*1000)"
   ]
  },
  {
   "cell_type": "code",
   "execution_count": 67,
   "metadata": {
    "collapsed": true
   },
   "outputs": [],
   "source": [
    "cant <- 0\n",
    "for (j in seq(1:nrow(df))){\n",
    "    lat_df <- df$LAT_c[j]\n",
    "    lon_df <- df$LON_c[j]\n",
    "    lat1 <- lat_df - 10\n",
    "    lat2 <- lat_df + 10\n",
    "    lon1 <- lon_df - 10\n",
    "    lon2 <- lon_df + 10\n",
    "    df_filtr <- cultura[(lat1 < cultura$LAT) & (cultura$LAT < lat2),]\n",
    "    df_filtr <- df_filtr[(lon1 < df_filtr$LON) & (df_filtr$LON < lon2),]\n",
    "    dist <- 0\n",
    "    for (i in seq(1:length(df_filtr$LAT))){\n",
    "        lat_lugar <- df_filtr$LAT[i]\n",
    "        lon_lugar <- df_filtr$LON[i]\n",
    "        x <- (lat_df - lat_lugar)^2\n",
    "        y <- (lon_df - lon_lugar)^2\n",
    "        dist[i] <- sqrt(x+y)\n",
    "    }\n",
    "    cant[j] <- length(dist[dist < umbral])\n",
    "}"
   ]
  },
  {
   "cell_type": "code",
   "execution_count": 69,
   "metadata": {
    "collapsed": true
   },
   "outputs": [],
   "source": [
    "df$DCULTURALES_CERCANOS <- cant"
   ]
  },
  {
   "cell_type": "markdown",
   "metadata": {},
   "source": [
    "### Farmacias cercanas\n",
    "\n",
    "Abarca las farmacias cercanas"
   ]
  },
  {
   "cell_type": "code",
   "execution_count": 52,
   "metadata": {
    "collapsed": true
   },
   "outputs": [],
   "source": [
    "farmacias <- read.csv(file=\"farmacias.csv\",sep=';',header=T)"
   ]
  },
  {
   "cell_type": "code",
   "execution_count": 7,
   "metadata": {
    "collapsed": true
   },
   "outputs": [],
   "source": [
    "colnames(farmacias)[colnames(farmacias) == \"X\"] <- \"LON\"\n",
    "colnames(farmacias)[colnames(farmacias) == \"Y\"] <- \"LAT\""
   ]
  },
  {
   "cell_type": "code",
   "execution_count": 9,
   "metadata": {
    "collapsed": true
   },
   "outputs": [],
   "source": [
    "farmacias$LAT <- sapply(farmacias$LAT, function(x) x*1000)\n",
    "farmacias$LON <- sapply(farmacias$LON, function(x) x*1000)"
   ]
  },
  {
   "cell_type": "code",
   "execution_count": 11,
   "metadata": {
    "collapsed": false
   },
   "outputs": [],
   "source": [
    "cant <- 0\n",
    "for (j in seq(1:nrow(df))){\n",
    "    lat_df <- df$LAT_c[j]\n",
    "    lon_df <- df$LON_c[j]\n",
    "    lat1 <- lat_df - 10\n",
    "    lat2 <- lat_df + 10\n",
    "    lon1 <- lon_df - 10\n",
    "    lon2 <- lon_df + 10\n",
    "    df_filtr <- farmacias[(lat1 < farmacias$LAT) & (farmacias$LAT < lat2),]\n",
    "    df_filtr <- df_filtr[(lon1 < df_filtr$LON) & (df_filtr$LON < lon2),]\n",
    "    dist <- 0\n",
    "    for (i in seq(1:length(df_filtr$LAT))){\n",
    "        lat_lugar <- df_filtr$LAT[i]\n",
    "        lon_lugar <- df_filtr$LON[i]\n",
    "        x <- (lat_df - lat_lugar)^2\n",
    "        y <- (lon_df - lon_lugar)^2\n",
    "        dist[i] <- sqrt(x+y)\n",
    "    }\n",
    "    cant[j] <- length(dist[dist < umbral])\n",
    "}"
   ]
  },
  {
   "cell_type": "code",
   "execution_count": 13,
   "metadata": {
    "collapsed": true
   },
   "outputs": [],
   "source": [
    "df$FARMACIAS_CERCANAS <- cant"
   ]
  },
  {
   "cell_type": "markdown",
   "metadata": {},
   "source": [
    "### Universidades cercanas\n",
    "\n",
    "Abarca universidades públicas y privadas"
   ]
  },
  {
   "cell_type": "code",
   "execution_count": 92,
   "metadata": {
    "collapsed": true
   },
   "outputs": [],
   "source": [
    "universidades <- read.csv(file=\"universidades.csv\",sep=';',header=T)"
   ]
  },
  {
   "cell_type": "code",
   "execution_count": 93,
   "metadata": {
    "collapsed": false
   },
   "outputs": [],
   "source": [
    "colnames(universidades)[colnames(universidades) == \"LNG\"] <- \"LON\"\n",
    "colnames(universidades)[colnames(universidades) == \"LAT\"] <- \"LAT\""
   ]
  },
  {
   "cell_type": "code",
   "execution_count": 94,
   "metadata": {
    "collapsed": true
   },
   "outputs": [],
   "source": [
    "universidades$LAT <- sapply(universidades$LAT, function(x) x*1000)\n",
    "universidades$LON <- sapply(universidades$LON, function(x) x*1000)"
   ]
  },
  {
   "cell_type": "code",
   "execution_count": 95,
   "metadata": {
    "collapsed": false
   },
   "outputs": [],
   "source": [
    "cant <- 0\n",
    "for (j in seq(1:nrow(df))){\n",
    "    lat_df <- df$LAT_c[j]\n",
    "    lon_df <- df$LON_c[j]\n",
    "    lat1 <- lat_df - 10\n",
    "    lat2 <- lat_df + 10\n",
    "    lon1 <- lon_df - 10\n",
    "    lon2 <- lon_df + 10\n",
    "    df_filtr <- universidades[(lat1 < universidades$LAT) & (universidades$LAT < lat2),]\n",
    "    df_filtr <- df_filtr[(lon1 < df_filtr$LON) & (df_filtr$LON < lon2),]\n",
    "    dist <- 0\n",
    "    for (i in seq(1:length(df_filtr$LAT))){\n",
    "        lat_lugar <- df_filtr$LAT[i]\n",
    "        lon_lugar <- df_filtr$LON[i]\n",
    "        x <- (lat_df - lat_lugar)^2\n",
    "        y <- (lon_df - lon_lugar)^2\n",
    "        dist[i] <- sqrt(x+y)\n",
    "    }\n",
    "    cant[j] <- length(dist[dist < umbral])\n",
    "}"
   ]
  },
  {
   "cell_type": "code",
   "execution_count": 22,
   "metadata": {
    "collapsed": true
   },
   "outputs": [],
   "source": [
    "df$UNIVERSIDADES_CERCANAS <- cant"
   ]
  },
  {
   "cell_type": "markdown",
   "metadata": {},
   "source": [
    "### Guardo el dataframe y elimino columnas innecesarias"
   ]
  },
  {
   "cell_type": "code",
   "execution_count": 74,
   "metadata": {
    "collapsed": false
   },
   "outputs": [],
   "source": [
    "df$LAT_c <- NULL\n",
    "df$LON_c <- NULL"
   ]
  },
  {
   "cell_type": "code",
   "execution_count": 77,
   "metadata": {
    "collapsed": false
   },
   "outputs": [],
   "source": [
    "write.csv(df, file = \"venta_departamentos.csv\")"
   ]
  }
 ],
 "metadata": {
  "kernelspec": {
   "display_name": "R",
   "language": "R",
   "name": "ir"
  },
  "language_info": {
   "codemirror_mode": "r",
   "file_extension": ".r",
   "mimetype": "text/x-r-source",
   "name": "R",
   "pygments_lexer": "r",
   "version": "3.3.2"
  }
 },
 "nbformat": 4,
 "nbformat_minor": 2
}
