{
 "cells": [
  {
   "cell_type": "markdown",
   "metadata": {},
   "source": [
    "# Preprocesamiento de datasets\n",
    "\n",
    "#### En esta sección tomaremos el conjunto de datasets y los iremos unificando y manipulando con la información que se considere necesaria, teniendo como resultado un solo dataset al que se le puede aplicar un modelo de machine learning."
   ]
  },
  {
   "cell_type": "markdown",
   "metadata": {},
   "source": [
    "### Cargo los archivos\n",
    "\n",
    "A continuación cargamos los csv que contiene la venta de departamentos entre el año 2007 y el 2015"
   ]
  },
  {
   "cell_type": "code",
   "execution_count": 1,
   "metadata": {
    "collapsed": true
   },
   "outputs": [],
   "source": [
    "dep2007 <- read.csv(file=\"departamentos-en-venta-2007.csv\",sep=';',header=T)\n",
    "dep2008 <- read.csv(file=\"departamentos-en-venta-2008.csv\",sep=';',header=T)\n",
    "dep2009 <- read.csv(file=\"departamentos-en-venta-2009.csv\",sep=';',header=T)\n",
    "dep2010 <- read.csv(file=\"departamentos-en-venta-2010.csv\",sep=';',header=T)\n",
    "dep2011 <- read.csv(file=\"departamentos-en-venta-2011.csv\",sep=';',header=T)\n",
    "dep2012 <- read.csv(file=\"departamentos-en-venta-2012.csv\",sep=';',header=T)\n",
    "dep2013 <- read.csv(file=\"departamentos-en-venta-2013.csv\",sep=';',header=T)\n",
    "dep2014 <- read.csv(file=\"departamentos-en-venta-2014.csv\",sep=';',header=T)\n",
    "dep2015 <- read.csv(file=\"departamentos-en-venta-2015.csv\",sep=';',header=T)"
   ]
  },
  {
   "cell_type": "markdown",
   "metadata": {},
   "source": [
    "### Comparo las columnas que tienen en común\n",
    "\n",
    "Imprimo los nombres de cada csv cargado anteriormente para observar las columnas que tienen en común y luego filtrar aquellas que no tienen en común (como una columna que contenga un csv y el otro no)"
   ]
  },
  {
   "cell_type": "code",
   "execution_count": 2,
   "metadata": {
    "collapsed": false
   },
   "outputs": [
    {
     "data": {
      "text/html": [
       "'CALLE | NUMERO | M2 | DOLARES | U_S_M2 | AMBIENTES | ANTIGUEDAD | ORIENT | BAULERA | COCHERA | BAÑOS | LAVADERO | TERRAZA | BARRIO | COMUNA | LON | LAT | X | X.1 | X.2 | X.3 | X.4 | X.5 | X.6 | X.7 | X.8 | X.9 | X.10 | X.11 | X.12'"
      ],
      "text/latex": [
       "'CALLE \\textbar{} NUMERO \\textbar{} M2 \\textbar{} DOLARES \\textbar{} U\\_S\\_M2 \\textbar{} AMBIENTES \\textbar{} ANTIGUEDAD \\textbar{} ORIENT \\textbar{} BAULERA \\textbar{} COCHERA \\textbar{} BAÑOS \\textbar{} LAVADERO \\textbar{} TERRAZA \\textbar{} BARRIO \\textbar{} COMUNA \\textbar{} LON \\textbar{} LAT \\textbar{} X \\textbar{} X.1 \\textbar{} X.2 \\textbar{} X.3 \\textbar{} X.4 \\textbar{} X.5 \\textbar{} X.6 \\textbar{} X.7 \\textbar{} X.8 \\textbar{} X.9 \\textbar{} X.10 \\textbar{} X.11 \\textbar{} X.12'"
      ],
      "text/markdown": [
       "'CALLE | NUMERO | M2 | DOLARES | U_S_M2 | AMBIENTES | ANTIGUEDAD | ORIENT | BAULERA | COCHERA | BAÑOS | LAVADERO | TERRAZA | BARRIO | COMUNA | LON | LAT | X | X.1 | X.2 | X.3 | X.4 | X.5 | X.6 | X.7 | X.8 | X.9 | X.10 | X.11 | X.12'"
      ],
      "text/plain": [
       "[1] \"CALLE | NUMERO | M2 | DOLARES | U_S_M2 | AMBIENTES | ANTIGUEDAD | ORIENT | BAULERA | COCHERA | BAÑOS | LAVADERO | TERRAZA | BARRIO | COMUNA | LON | LAT | X | X.1 | X.2 | X.3 | X.4 | X.5 | X.6 | X.7 | X.8 | X.9 | X.10 | X.11 | X.12\""
      ]
     },
     "metadata": {},
     "output_type": "display_data"
    },
    {
     "data": {
      "text/html": [
       "'CALLE | NUMERO | M2 | DOLARES | U_S_M2 | AMBIENTES | ANTIGUEDAD | ORIENT | BAULERA | COCHERA | BAÑOS | LAVADERO | TERRAZA | BARRIO | COMUNA | LON | LAT'"
      ],
      "text/latex": [
       "'CALLE \\textbar{} NUMERO \\textbar{} M2 \\textbar{} DOLARES \\textbar{} U\\_S\\_M2 \\textbar{} AMBIENTES \\textbar{} ANTIGUEDAD \\textbar{} ORIENT \\textbar{} BAULERA \\textbar{} COCHERA \\textbar{} BAÑOS \\textbar{} LAVADERO \\textbar{} TERRAZA \\textbar{} BARRIO \\textbar{} COMUNA \\textbar{} LON \\textbar{} LAT'"
      ],
      "text/markdown": [
       "'CALLE | NUMERO | M2 | DOLARES | U_S_M2 | AMBIENTES | ANTIGUEDAD | ORIENT | BAULERA | COCHERA | BAÑOS | LAVADERO | TERRAZA | BARRIO | COMUNA | LON | LAT'"
      ],
      "text/plain": [
       "[1] \"CALLE | NUMERO | M2 | DOLARES | U_S_M2 | AMBIENTES | ANTIGUEDAD | ORIENT | BAULERA | COCHERA | BAÑOS | LAVADERO | TERRAZA | BARRIO | COMUNA | LON | LAT\""
      ]
     },
     "metadata": {},
     "output_type": "display_data"
    },
    {
     "data": {
      "text/html": [
       "'CALLE | NUMERO | M2 | DOLARES | U_S_M2 | AMBIENTES | ANTIGUEDAD | ORIENT | BAULERA | COCHERA | BAÑOS | LAVADERO | TERRAZA | BARRIO | COMUNA | LON | LAT'"
      ],
      "text/latex": [
       "'CALLE \\textbar{} NUMERO \\textbar{} M2 \\textbar{} DOLARES \\textbar{} U\\_S\\_M2 \\textbar{} AMBIENTES \\textbar{} ANTIGUEDAD \\textbar{} ORIENT \\textbar{} BAULERA \\textbar{} COCHERA \\textbar{} BAÑOS \\textbar{} LAVADERO \\textbar{} TERRAZA \\textbar{} BARRIO \\textbar{} COMUNA \\textbar{} LON \\textbar{} LAT'"
      ],
      "text/markdown": [
       "'CALLE | NUMERO | M2 | DOLARES | U_S_M2 | AMBIENTES | ANTIGUEDAD | ORIENT | BAULERA | COCHERA | BAÑOS | LAVADERO | TERRAZA | BARRIO | COMUNA | LON | LAT'"
      ],
      "text/plain": [
       "[1] \"CALLE | NUMERO | M2 | DOLARES | U_S_M2 | AMBIENTES | ANTIGUEDAD | ORIENT | BAULERA | COCHERA | BAÑOS | LAVADERO | TERRAZA | BARRIO | COMUNA | LON | LAT\""
      ]
     },
     "metadata": {},
     "output_type": "display_data"
    },
    {
     "data": {
      "text/html": [
       "'CALLE | NUMERO | M2 | DOLARES | U_S_M2 | AMBIENTES | ANTIGUEDAD | ORIENT | BAULERA | COCHERA | BAÑOS | LAVADERO | TERRAZA | BARRIO | COMUNA | LON | LAT'"
      ],
      "text/latex": [
       "'CALLE \\textbar{} NUMERO \\textbar{} M2 \\textbar{} DOLARES \\textbar{} U\\_S\\_M2 \\textbar{} AMBIENTES \\textbar{} ANTIGUEDAD \\textbar{} ORIENT \\textbar{} BAULERA \\textbar{} COCHERA \\textbar{} BAÑOS \\textbar{} LAVADERO \\textbar{} TERRAZA \\textbar{} BARRIO \\textbar{} COMUNA \\textbar{} LON \\textbar{} LAT'"
      ],
      "text/markdown": [
       "'CALLE | NUMERO | M2 | DOLARES | U_S_M2 | AMBIENTES | ANTIGUEDAD | ORIENT | BAULERA | COCHERA | BAÑOS | LAVADERO | TERRAZA | BARRIO | COMUNA | LON | LAT'"
      ],
      "text/plain": [
       "[1] \"CALLE | NUMERO | M2 | DOLARES | U_S_M2 | AMBIENTES | ANTIGUEDAD | ORIENT | BAULERA | COCHERA | BAÑOS | LAVADERO | TERRAZA | BARRIO | COMUNA | LON | LAT\""
      ]
     },
     "metadata": {},
     "output_type": "display_data"
    },
    {
     "data": {
      "text/html": [
       "'CALLE | NUMERO | M2 | DOLARES | U_S_M2 | AMBIENTES | ANTIGUEDAD | ORIENT | BAULERA | COCHERA | BAÑOS | LAVADERO | TERRAZA | BARRIO | COMUNA | LON | LAT'"
      ],
      "text/latex": [
       "'CALLE \\textbar{} NUMERO \\textbar{} M2 \\textbar{} DOLARES \\textbar{} U\\_S\\_M2 \\textbar{} AMBIENTES \\textbar{} ANTIGUEDAD \\textbar{} ORIENT \\textbar{} BAULERA \\textbar{} COCHERA \\textbar{} BAÑOS \\textbar{} LAVADERO \\textbar{} TERRAZA \\textbar{} BARRIO \\textbar{} COMUNA \\textbar{} LON \\textbar{} LAT'"
      ],
      "text/markdown": [
       "'CALLE | NUMERO | M2 | DOLARES | U_S_M2 | AMBIENTES | ANTIGUEDAD | ORIENT | BAULERA | COCHERA | BAÑOS | LAVADERO | TERRAZA | BARRIO | COMUNA | LON | LAT'"
      ],
      "text/plain": [
       "[1] \"CALLE | NUMERO | M2 | DOLARES | U_S_M2 | AMBIENTES | ANTIGUEDAD | ORIENT | BAULERA | COCHERA | BAÑOS | LAVADERO | TERRAZA | BARRIO | COMUNA | LON | LAT\""
      ]
     },
     "metadata": {},
     "output_type": "display_data"
    },
    {
     "data": {
      "text/html": [
       "'CALLE | NUMERO | M2 | DOLARES | U_S_M2 | AMBIENTES | ANTIGUEDAD | ORIENT | BAULERA | COCHERA | BAÑOS | LAVADERO | TERRAZA | BARRIO | COMUNA | LON | LAT'"
      ],
      "text/latex": [
       "'CALLE \\textbar{} NUMERO \\textbar{} M2 \\textbar{} DOLARES \\textbar{} U\\_S\\_M2 \\textbar{} AMBIENTES \\textbar{} ANTIGUEDAD \\textbar{} ORIENT \\textbar{} BAULERA \\textbar{} COCHERA \\textbar{} BAÑOS \\textbar{} LAVADERO \\textbar{} TERRAZA \\textbar{} BARRIO \\textbar{} COMUNA \\textbar{} LON \\textbar{} LAT'"
      ],
      "text/markdown": [
       "'CALLE | NUMERO | M2 | DOLARES | U_S_M2 | AMBIENTES | ANTIGUEDAD | ORIENT | BAULERA | COCHERA | BAÑOS | LAVADERO | TERRAZA | BARRIO | COMUNA | LON | LAT'"
      ],
      "text/plain": [
       "[1] \"CALLE | NUMERO | M2 | DOLARES | U_S_M2 | AMBIENTES | ANTIGUEDAD | ORIENT | BAULERA | COCHERA | BAÑOS | LAVADERO | TERRAZA | BARRIO | COMUNA | LON | LAT\""
      ]
     },
     "metadata": {},
     "output_type": "display_data"
    },
    {
     "data": {
      "text/html": [
       "'CALLE | NUMERO | M2 | DOLARES | U_S_M2 | PESOS | PESOS_M2 | AMBIENTES | ANTIGUEDAD | ORIENT | BAULERA | COCHERA | BAÑOS | LAVADERO | TERRAZA | BARRIO | COMUNA | LON | LAT'"
      ],
      "text/latex": [
       "'CALLE \\textbar{} NUMERO \\textbar{} M2 \\textbar{} DOLARES \\textbar{} U\\_S\\_M2 \\textbar{} PESOS \\textbar{} PESOS\\_M2 \\textbar{} AMBIENTES \\textbar{} ANTIGUEDAD \\textbar{} ORIENT \\textbar{} BAULERA \\textbar{} COCHERA \\textbar{} BAÑOS \\textbar{} LAVADERO \\textbar{} TERRAZA \\textbar{} BARRIO \\textbar{} COMUNA \\textbar{} LON \\textbar{} LAT'"
      ],
      "text/markdown": [
       "'CALLE | NUMERO | M2 | DOLARES | U_S_M2 | PESOS | PESOS_M2 | AMBIENTES | ANTIGUEDAD | ORIENT | BAULERA | COCHERA | BAÑOS | LAVADERO | TERRAZA | BARRIO | COMUNA | LON | LAT'"
      ],
      "text/plain": [
       "[1] \"CALLE | NUMERO | M2 | DOLARES | U_S_M2 | PESOS | PESOS_M2 | AMBIENTES | ANTIGUEDAD | ORIENT | BAULERA | COCHERA | BAÑOS | LAVADERO | TERRAZA | BARRIO | COMUNA | LON | LAT\""
      ]
     },
     "metadata": {},
     "output_type": "display_data"
    },
    {
     "data": {
      "text/html": [
       "'CALLE | NUMERO | M2 | DOLARES | U_S_M2 | AMBIENTES | ANTIGUEDAD | ORIENT | BAULERA | COCHERA | BAÑOS | LAVADERO | TERRAZA | BARRIO | COMUNA | LON | LAT'"
      ],
      "text/latex": [
       "'CALLE \\textbar{} NUMERO \\textbar{} M2 \\textbar{} DOLARES \\textbar{} U\\_S\\_M2 \\textbar{} AMBIENTES \\textbar{} ANTIGUEDAD \\textbar{} ORIENT \\textbar{} BAULERA \\textbar{} COCHERA \\textbar{} BAÑOS \\textbar{} LAVADERO \\textbar{} TERRAZA \\textbar{} BARRIO \\textbar{} COMUNA \\textbar{} LON \\textbar{} LAT'"
      ],
      "text/markdown": [
       "'CALLE | NUMERO | M2 | DOLARES | U_S_M2 | AMBIENTES | ANTIGUEDAD | ORIENT | BAULERA | COCHERA | BAÑOS | LAVADERO | TERRAZA | BARRIO | COMUNA | LON | LAT'"
      ],
      "text/plain": [
       "[1] \"CALLE | NUMERO | M2 | DOLARES | U_S_M2 | AMBIENTES | ANTIGUEDAD | ORIENT | BAULERA | COCHERA | BAÑOS | LAVADERO | TERRAZA | BARRIO | COMUNA | LON | LAT\""
      ]
     },
     "metadata": {},
     "output_type": "display_data"
    },
    {
     "data": {
      "text/html": [
       "'CALLE | NUMERO | M2 | DOLARES | U_S_M2 | PISO | AMBIENTES | DORMITORIO | ANTIGUEDAD | A_ESTRENAR | FRENTE_Y_CONTRA | EDIFICACION | BAUL | COCHERA | BAÑO | LAVADERO | DEPENDENCIA | TERRAZA | OBS1 | FUENTE | DIRECCION | NOMB_CA_CO | AV_SCORE | AV_SIDE | BARRIOS | COMUNA | AREA | ZONA | DIRECCION_NORMALIZADA | BARRIO_NORMALIZADO | COMUNA_NORMALIZADA | CODIGO_POSTAL | CODIGO_POSTAL_ARGENTINO | LATITUD | LONGITUD'"
      ],
      "text/latex": [
       "'CALLE \\textbar{} NUMERO \\textbar{} M2 \\textbar{} DOLARES \\textbar{} U\\_S\\_M2 \\textbar{} PISO \\textbar{} AMBIENTES \\textbar{} DORMITORIO \\textbar{} ANTIGUEDAD \\textbar{} A\\_ESTRENAR \\textbar{} FRENTE\\_Y\\_CONTRA \\textbar{} EDIFICACION \\textbar{} BAUL \\textbar{} COCHERA \\textbar{} BAÑO \\textbar{} LAVADERO \\textbar{} DEPENDENCIA \\textbar{} TERRAZA \\textbar{} OBS1 \\textbar{} FUENTE \\textbar{} DIRECCION \\textbar{} NOMB\\_CA\\_CO \\textbar{} AV\\_SCORE \\textbar{} AV\\_SIDE \\textbar{} BARRIOS \\textbar{} COMUNA \\textbar{} AREA \\textbar{} ZONA \\textbar{} DIRECCION\\_NORMALIZADA \\textbar{} BARRIO\\_NORMALIZADO \\textbar{} COMUNA\\_NORMALIZADA \\textbar{} CODIGO\\_POSTAL \\textbar{} CODIGO\\_POSTAL\\_ARGENTINO \\textbar{} LATITUD \\textbar{} LONGITUD'"
      ],
      "text/markdown": [
       "'CALLE | NUMERO | M2 | DOLARES | U_S_M2 | PISO | AMBIENTES | DORMITORIO | ANTIGUEDAD | A_ESTRENAR | FRENTE_Y_CONTRA | EDIFICACION | BAUL | COCHERA | BAÑO | LAVADERO | DEPENDENCIA | TERRAZA | OBS1 | FUENTE | DIRECCION | NOMB_CA_CO | AV_SCORE | AV_SIDE | BARRIOS | COMUNA | AREA | ZONA | DIRECCION_NORMALIZADA | BARRIO_NORMALIZADO | COMUNA_NORMALIZADA | CODIGO_POSTAL | CODIGO_POSTAL_ARGENTINO | LATITUD | LONGITUD'"
      ],
      "text/plain": [
       "[1] \"CALLE | NUMERO | M2 | DOLARES | U_S_M2 | PISO | AMBIENTES | DORMITORIO | ANTIGUEDAD | A_ESTRENAR | FRENTE_Y_CONTRA | EDIFICACION | BAUL | COCHERA | BAÑO | LAVADERO | DEPENDENCIA | TERRAZA | OBS1 | FUENTE | DIRECCION | NOMB_CA_CO | AV_SCORE | AV_SIDE | BARRIOS | COMUNA | AREA | ZONA | DIRECCION_NORMALIZADA | BARRIO_NORMALIZADO | COMUNA_NORMALIZADA | CODIGO_POSTAL | CODIGO_POSTAL_ARGENTINO | LATITUD | LONGITUD\""
      ]
     },
     "metadata": {},
     "output_type": "display_data"
    }
   ],
   "source": [
    "paste(colnames(dep2007),collapse = ' | ')\n",
    "paste(colnames(dep2008),collapse = ' | ')\n",
    "paste(colnames(dep2009),collapse = ' | ')\n",
    "paste(colnames(dep2010),collapse = ' | ')\n",
    "paste(colnames(dep2011),collapse = ' | ')\n",
    "paste(colnames(dep2012),collapse = ' | ')\n",
    "paste(colnames(dep2013),collapse = ' | ')\n",
    "paste(colnames(dep2014),collapse = ' | ')\n",
    "paste(colnames(dep2015),collapse = ' | ')"
   ]
  },
  {
   "cell_type": "markdown",
   "metadata": {},
   "source": [
    "### Filtro por columnas en común\n",
    "\n",
    "Tomamos todos los datasets y los filtramos por las columnas que tengan en común. Es necesario renombrar algunas columnas del dataset dep2015 para que tengan el mismo nombre que las otras columnas."
   ]
  },
  {
   "cell_type": "code",
   "execution_count": 3,
   "metadata": {
    "collapsed": true
   },
   "outputs": [],
   "source": [
    "columnas <- c('CALLE','NUMERO','M2','DOLARES','U_S_M2','AMBIENTES','ANTIGUEDAD','BAULERA'\n",
    "              ,'COCHERA','BAÑOS','LAVADERO','TERRAZA','BARRIO','COMUNA','LON','LAT')"
   ]
  },
  {
   "cell_type": "code",
   "execution_count": 4,
   "metadata": {
    "collapsed": false
   },
   "outputs": [],
   "source": [
    "colnames(dep2015)[colnames(dep2015) == \"BAUL\"] <- \"BAULERA\"\n",
    "colnames(dep2015)[colnames(dep2015) == \"BAÑO\"] <- \"BAÑOS\"\n",
    "colnames(dep2015)[colnames(dep2015) == \"BARRIOS\"] <- \"BARRIO\"\n",
    "colnames(dep2015)[colnames(dep2015) == \"LONGITUD\"] <- \"LON\"\n",
    "colnames(dep2015)[colnames(dep2015) == \"LATITUD\"] <- \"LAT\""
   ]
  },
  {
   "cell_type": "code",
   "execution_count": 5,
   "metadata": {
    "collapsed": false
   },
   "outputs": [],
   "source": [
    "dep2007 <- dep2007[,which((names(dep2007) %in% columnas) == TRUE)]\n",
    "dep2008 <- dep2008[,which((names(dep2008) %in% columnas) == TRUE)]\n",
    "dep2009 <- dep2009[,which((names(dep2009) %in% columnas) == TRUE)]\n",
    "dep2010 <- dep2010[,which((names(dep2010) %in% columnas) == TRUE)]\n",
    "dep2011 <- dep2011[,which((names(dep2011) %in% columnas) == TRUE)]\n",
    "dep2012 <- dep2012[,which((names(dep2012) %in% columnas) == TRUE)]\n",
    "dep2013 <- dep2013[,which((names(dep2013) %in% columnas) == TRUE)]\n",
    "dep2014 <- dep2014[,which((names(dep2014) %in% columnas) == TRUE)]\n",
    "dep2015 <- dep2015[,which((names(dep2015) %in% columnas) == TRUE)]"
   ]
  },
  {
   "cell_type": "markdown",
   "metadata": {},
   "source": [
    "### Verifico que los datasets tengan las mismas columnas\n",
    "\n",
    "Esto es para corroborar que los cambios se hayan efectuado correctamente con la reciente implementación"
   ]
  },
  {
   "cell_type": "code",
   "execution_count": 6,
   "metadata": {
    "collapsed": false
   },
   "outputs": [
    {
     "data": {
      "text/html": [
       "'CALLE | NUMERO | M2 | DOLARES | U_S_M2 | AMBIENTES | ANTIGUEDAD | BAULERA | COCHERA | BAÑOS | LAVADERO | TERRAZA | BARRIO | COMUNA | LON | LAT'"
      ],
      "text/latex": [
       "'CALLE \\textbar{} NUMERO \\textbar{} M2 \\textbar{} DOLARES \\textbar{} U\\_S\\_M2 \\textbar{} AMBIENTES \\textbar{} ANTIGUEDAD \\textbar{} BAULERA \\textbar{} COCHERA \\textbar{} BAÑOS \\textbar{} LAVADERO \\textbar{} TERRAZA \\textbar{} BARRIO \\textbar{} COMUNA \\textbar{} LON \\textbar{} LAT'"
      ],
      "text/markdown": [
       "'CALLE | NUMERO | M2 | DOLARES | U_S_M2 | AMBIENTES | ANTIGUEDAD | BAULERA | COCHERA | BAÑOS | LAVADERO | TERRAZA | BARRIO | COMUNA | LON | LAT'"
      ],
      "text/plain": [
       "[1] \"CALLE | NUMERO | M2 | DOLARES | U_S_M2 | AMBIENTES | ANTIGUEDAD | BAULERA | COCHERA | BAÑOS | LAVADERO | TERRAZA | BARRIO | COMUNA | LON | LAT\""
      ]
     },
     "metadata": {},
     "output_type": "display_data"
    },
    {
     "data": {
      "text/html": [
       "'CALLE | NUMERO | M2 | DOLARES | U_S_M2 | AMBIENTES | ANTIGUEDAD | BAULERA | COCHERA | BAÑOS | LAVADERO | TERRAZA | BARRIO | COMUNA | LON | LAT'"
      ],
      "text/latex": [
       "'CALLE \\textbar{} NUMERO \\textbar{} M2 \\textbar{} DOLARES \\textbar{} U\\_S\\_M2 \\textbar{} AMBIENTES \\textbar{} ANTIGUEDAD \\textbar{} BAULERA \\textbar{} COCHERA \\textbar{} BAÑOS \\textbar{} LAVADERO \\textbar{} TERRAZA \\textbar{} BARRIO \\textbar{} COMUNA \\textbar{} LON \\textbar{} LAT'"
      ],
      "text/markdown": [
       "'CALLE | NUMERO | M2 | DOLARES | U_S_M2 | AMBIENTES | ANTIGUEDAD | BAULERA | COCHERA | BAÑOS | LAVADERO | TERRAZA | BARRIO | COMUNA | LON | LAT'"
      ],
      "text/plain": [
       "[1] \"CALLE | NUMERO | M2 | DOLARES | U_S_M2 | AMBIENTES | ANTIGUEDAD | BAULERA | COCHERA | BAÑOS | LAVADERO | TERRAZA | BARRIO | COMUNA | LON | LAT\""
      ]
     },
     "metadata": {},
     "output_type": "display_data"
    },
    {
     "data": {
      "text/html": [
       "'CALLE | NUMERO | M2 | DOLARES | U_S_M2 | AMBIENTES | ANTIGUEDAD | BAULERA | COCHERA | BAÑOS | LAVADERO | TERRAZA | BARRIO | COMUNA | LON | LAT'"
      ],
      "text/latex": [
       "'CALLE \\textbar{} NUMERO \\textbar{} M2 \\textbar{} DOLARES \\textbar{} U\\_S\\_M2 \\textbar{} AMBIENTES \\textbar{} ANTIGUEDAD \\textbar{} BAULERA \\textbar{} COCHERA \\textbar{} BAÑOS \\textbar{} LAVADERO \\textbar{} TERRAZA \\textbar{} BARRIO \\textbar{} COMUNA \\textbar{} LON \\textbar{} LAT'"
      ],
      "text/markdown": [
       "'CALLE | NUMERO | M2 | DOLARES | U_S_M2 | AMBIENTES | ANTIGUEDAD | BAULERA | COCHERA | BAÑOS | LAVADERO | TERRAZA | BARRIO | COMUNA | LON | LAT'"
      ],
      "text/plain": [
       "[1] \"CALLE | NUMERO | M2 | DOLARES | U_S_M2 | AMBIENTES | ANTIGUEDAD | BAULERA | COCHERA | BAÑOS | LAVADERO | TERRAZA | BARRIO | COMUNA | LON | LAT\""
      ]
     },
     "metadata": {},
     "output_type": "display_data"
    },
    {
     "data": {
      "text/html": [
       "'CALLE | NUMERO | M2 | DOLARES | U_S_M2 | AMBIENTES | ANTIGUEDAD | BAULERA | COCHERA | BAÑOS | LAVADERO | TERRAZA | BARRIO | COMUNA | LON | LAT'"
      ],
      "text/latex": [
       "'CALLE \\textbar{} NUMERO \\textbar{} M2 \\textbar{} DOLARES \\textbar{} U\\_S\\_M2 \\textbar{} AMBIENTES \\textbar{} ANTIGUEDAD \\textbar{} BAULERA \\textbar{} COCHERA \\textbar{} BAÑOS \\textbar{} LAVADERO \\textbar{} TERRAZA \\textbar{} BARRIO \\textbar{} COMUNA \\textbar{} LON \\textbar{} LAT'"
      ],
      "text/markdown": [
       "'CALLE | NUMERO | M2 | DOLARES | U_S_M2 | AMBIENTES | ANTIGUEDAD | BAULERA | COCHERA | BAÑOS | LAVADERO | TERRAZA | BARRIO | COMUNA | LON | LAT'"
      ],
      "text/plain": [
       "[1] \"CALLE | NUMERO | M2 | DOLARES | U_S_M2 | AMBIENTES | ANTIGUEDAD | BAULERA | COCHERA | BAÑOS | LAVADERO | TERRAZA | BARRIO | COMUNA | LON | LAT\""
      ]
     },
     "metadata": {},
     "output_type": "display_data"
    },
    {
     "data": {
      "text/html": [
       "'CALLE | NUMERO | M2 | DOLARES | U_S_M2 | AMBIENTES | ANTIGUEDAD | BAULERA | COCHERA | BAÑOS | LAVADERO | TERRAZA | BARRIO | COMUNA | LON | LAT'"
      ],
      "text/latex": [
       "'CALLE \\textbar{} NUMERO \\textbar{} M2 \\textbar{} DOLARES \\textbar{} U\\_S\\_M2 \\textbar{} AMBIENTES \\textbar{} ANTIGUEDAD \\textbar{} BAULERA \\textbar{} COCHERA \\textbar{} BAÑOS \\textbar{} LAVADERO \\textbar{} TERRAZA \\textbar{} BARRIO \\textbar{} COMUNA \\textbar{} LON \\textbar{} LAT'"
      ],
      "text/markdown": [
       "'CALLE | NUMERO | M2 | DOLARES | U_S_M2 | AMBIENTES | ANTIGUEDAD | BAULERA | COCHERA | BAÑOS | LAVADERO | TERRAZA | BARRIO | COMUNA | LON | LAT'"
      ],
      "text/plain": [
       "[1] \"CALLE | NUMERO | M2 | DOLARES | U_S_M2 | AMBIENTES | ANTIGUEDAD | BAULERA | COCHERA | BAÑOS | LAVADERO | TERRAZA | BARRIO | COMUNA | LON | LAT\""
      ]
     },
     "metadata": {},
     "output_type": "display_data"
    },
    {
     "data": {
      "text/html": [
       "'CALLE | NUMERO | M2 | DOLARES | U_S_M2 | AMBIENTES | ANTIGUEDAD | BAULERA | COCHERA | BAÑOS | LAVADERO | TERRAZA | BARRIO | COMUNA | LON | LAT'"
      ],
      "text/latex": [
       "'CALLE \\textbar{} NUMERO \\textbar{} M2 \\textbar{} DOLARES \\textbar{} U\\_S\\_M2 \\textbar{} AMBIENTES \\textbar{} ANTIGUEDAD \\textbar{} BAULERA \\textbar{} COCHERA \\textbar{} BAÑOS \\textbar{} LAVADERO \\textbar{} TERRAZA \\textbar{} BARRIO \\textbar{} COMUNA \\textbar{} LON \\textbar{} LAT'"
      ],
      "text/markdown": [
       "'CALLE | NUMERO | M2 | DOLARES | U_S_M2 | AMBIENTES | ANTIGUEDAD | BAULERA | COCHERA | BAÑOS | LAVADERO | TERRAZA | BARRIO | COMUNA | LON | LAT'"
      ],
      "text/plain": [
       "[1] \"CALLE | NUMERO | M2 | DOLARES | U_S_M2 | AMBIENTES | ANTIGUEDAD | BAULERA | COCHERA | BAÑOS | LAVADERO | TERRAZA | BARRIO | COMUNA | LON | LAT\""
      ]
     },
     "metadata": {},
     "output_type": "display_data"
    },
    {
     "data": {
      "text/html": [
       "'CALLE | NUMERO | M2 | DOLARES | U_S_M2 | AMBIENTES | ANTIGUEDAD | BAULERA | COCHERA | BAÑOS | LAVADERO | TERRAZA | BARRIO | COMUNA | LON | LAT'"
      ],
      "text/latex": [
       "'CALLE \\textbar{} NUMERO \\textbar{} M2 \\textbar{} DOLARES \\textbar{} U\\_S\\_M2 \\textbar{} AMBIENTES \\textbar{} ANTIGUEDAD \\textbar{} BAULERA \\textbar{} COCHERA \\textbar{} BAÑOS \\textbar{} LAVADERO \\textbar{} TERRAZA \\textbar{} BARRIO \\textbar{} COMUNA \\textbar{} LON \\textbar{} LAT'"
      ],
      "text/markdown": [
       "'CALLE | NUMERO | M2 | DOLARES | U_S_M2 | AMBIENTES | ANTIGUEDAD | BAULERA | COCHERA | BAÑOS | LAVADERO | TERRAZA | BARRIO | COMUNA | LON | LAT'"
      ],
      "text/plain": [
       "[1] \"CALLE | NUMERO | M2 | DOLARES | U_S_M2 | AMBIENTES | ANTIGUEDAD | BAULERA | COCHERA | BAÑOS | LAVADERO | TERRAZA | BARRIO | COMUNA | LON | LAT\""
      ]
     },
     "metadata": {},
     "output_type": "display_data"
    },
    {
     "data": {
      "text/html": [
       "'CALLE | NUMERO | M2 | DOLARES | U_S_M2 | AMBIENTES | ANTIGUEDAD | BAULERA | COCHERA | BAÑOS | LAVADERO | TERRAZA | BARRIO | COMUNA | LON | LAT'"
      ],
      "text/latex": [
       "'CALLE \\textbar{} NUMERO \\textbar{} M2 \\textbar{} DOLARES \\textbar{} U\\_S\\_M2 \\textbar{} AMBIENTES \\textbar{} ANTIGUEDAD \\textbar{} BAULERA \\textbar{} COCHERA \\textbar{} BAÑOS \\textbar{} LAVADERO \\textbar{} TERRAZA \\textbar{} BARRIO \\textbar{} COMUNA \\textbar{} LON \\textbar{} LAT'"
      ],
      "text/markdown": [
       "'CALLE | NUMERO | M2 | DOLARES | U_S_M2 | AMBIENTES | ANTIGUEDAD | BAULERA | COCHERA | BAÑOS | LAVADERO | TERRAZA | BARRIO | COMUNA | LON | LAT'"
      ],
      "text/plain": [
       "[1] \"CALLE | NUMERO | M2 | DOLARES | U_S_M2 | AMBIENTES | ANTIGUEDAD | BAULERA | COCHERA | BAÑOS | LAVADERO | TERRAZA | BARRIO | COMUNA | LON | LAT\""
      ]
     },
     "metadata": {},
     "output_type": "display_data"
    },
    {
     "data": {
      "text/html": [
       "'CALLE | NUMERO | M2 | DOLARES | U_S_M2 | AMBIENTES | ANTIGUEDAD | BAULERA | COCHERA | BAÑOS | LAVADERO | TERRAZA | BARRIO | COMUNA | LAT | LON'"
      ],
      "text/latex": [
       "'CALLE \\textbar{} NUMERO \\textbar{} M2 \\textbar{} DOLARES \\textbar{} U\\_S\\_M2 \\textbar{} AMBIENTES \\textbar{} ANTIGUEDAD \\textbar{} BAULERA \\textbar{} COCHERA \\textbar{} BAÑOS \\textbar{} LAVADERO \\textbar{} TERRAZA \\textbar{} BARRIO \\textbar{} COMUNA \\textbar{} LAT \\textbar{} LON'"
      ],
      "text/markdown": [
       "'CALLE | NUMERO | M2 | DOLARES | U_S_M2 | AMBIENTES | ANTIGUEDAD | BAULERA | COCHERA | BAÑOS | LAVADERO | TERRAZA | BARRIO | COMUNA | LAT | LON'"
      ],
      "text/plain": [
       "[1] \"CALLE | NUMERO | M2 | DOLARES | U_S_M2 | AMBIENTES | ANTIGUEDAD | BAULERA | COCHERA | BAÑOS | LAVADERO | TERRAZA | BARRIO | COMUNA | LAT | LON\""
      ]
     },
     "metadata": {},
     "output_type": "display_data"
    }
   ],
   "source": [
    "paste(colnames(dep2007),collapse = ' | ')\n",
    "paste(colnames(dep2008),collapse = ' | ')\n",
    "paste(colnames(dep2009),collapse = ' | ')\n",
    "paste(colnames(dep2010),collapse = ' | ')\n",
    "paste(colnames(dep2011),collapse = ' | ')\n",
    "paste(colnames(dep2012),collapse = ' | ')\n",
    "paste(colnames(dep2013),collapse = ' | ')\n",
    "paste(colnames(dep2014),collapse = ' | ')\n",
    "paste(colnames(dep2015),collapse = ' | ')"
   ]
  },
  {
   "cell_type": "markdown",
   "metadata": {},
   "source": [
    "### Unificando datasets\n",
    "\n",
    "A continuación se unificarán todos los datasets en uno solo. Por empezar, vamos a ir comprobando la cantidad de filas de cada dataset para verificar si la suma de las filas de todos los datasets es la cantidad de filas del dataset resultante"
   ]
  },
  {
   "cell_type": "code",
   "execution_count": 16,
   "metadata": {
    "collapsed": false
   },
   "outputs": [
    {
     "data": {
      "text/html": [
       "'7915 + 7524 + 23614 + 18466 + 17314 + 8828 + 17576 + 12724 + 11414 ='"
      ],
      "text/latex": [
       "'7915 + 7524 + 23614 + 18466 + 17314 + 8828 + 17576 + 12724 + 11414 ='"
      ],
      "text/markdown": [
       "'7915 + 7524 + 23614 + 18466 + 17314 + 8828 + 17576 + 12724 + 11414 ='"
      ],
      "text/plain": [
       "[1] \"7915 + 7524 + 23614 + 18466 + 17314 + 8828 + 17576 + 12724 + 11414 =\""
      ]
     },
     "metadata": {},
     "output_type": "display_data"
    },
    {
     "data": {
      "text/html": [
       "125375"
      ],
      "text/latex": [
       "125375"
      ],
      "text/markdown": [
       "125375"
      ],
      "text/plain": [
       "[1] 125375"
      ]
     },
     "metadata": {},
     "output_type": "display_data"
    }
   ],
   "source": [
    "paste(nrow(dep2007),\"+\",nrow(dep2008),\"+\",nrow(dep2009),\"+\",nrow(dep2010),\"+\",nrow(dep2011),\n",
    "      \"+\",nrow(dep2012),\"+\",nrow(dep2013),\"+\",nrow(dep2014),\"+\",nrow(dep2015),\"=\")\n",
    "nrow(dep2007)+nrow(dep2008)+nrow(dep2009)+nrow(dep2010)+nrow(dep2011)+nrow(dep2012)+\n",
    "nrow(dep2013)+nrow(dep2014)+nrow(dep2015)"
   ]
  },
  {
   "cell_type": "code",
   "execution_count": 17,
   "metadata": {
    "collapsed": true
   },
   "outputs": [],
   "source": [
    "df <- rbind(dep2007,dep2008,dep2009,dep2010,dep2011,dep2012,dep2013,dep2014,dep2015)"
   ]
  },
  {
   "cell_type": "code",
   "execution_count": 19,
   "metadata": {
    "collapsed": false
   },
   "outputs": [
    {
     "data": {
      "text/html": [
       "'CALLE | NUMERO | M2 | DOLARES | U_S_M2 | AMBIENTES | ANTIGUEDAD | BAULERA | COCHERA | BAÑOS | LAVADERO | TERRAZA | BARRIO | COMUNA | LON | LAT'"
      ],
      "text/latex": [
       "'CALLE \\textbar{} NUMERO \\textbar{} M2 \\textbar{} DOLARES \\textbar{} U\\_S\\_M2 \\textbar{} AMBIENTES \\textbar{} ANTIGUEDAD \\textbar{} BAULERA \\textbar{} COCHERA \\textbar{} BAÑOS \\textbar{} LAVADERO \\textbar{} TERRAZA \\textbar{} BARRIO \\textbar{} COMUNA \\textbar{} LON \\textbar{} LAT'"
      ],
      "text/markdown": [
       "'CALLE | NUMERO | M2 | DOLARES | U_S_M2 | AMBIENTES | ANTIGUEDAD | BAULERA | COCHERA | BAÑOS | LAVADERO | TERRAZA | BARRIO | COMUNA | LON | LAT'"
      ],
      "text/plain": [
       "[1] \"CALLE | NUMERO | M2 | DOLARES | U_S_M2 | AMBIENTES | ANTIGUEDAD | BAULERA | COCHERA | BAÑOS | LAVADERO | TERRAZA | BARRIO | COMUNA | LON | LAT\""
      ]
     },
     "metadata": {},
     "output_type": "display_data"
    }
   ],
   "source": [
    "paste(colnames(df),collapse = ' | ')"
   ]
  },
  {
   "cell_type": "code",
   "execution_count": 20,
   "metadata": {
    "collapsed": false
   },
   "outputs": [
    {
     "data": {
      "text/html": [
       "125375"
      ],
      "text/latex": [
       "125375"
      ],
      "text/markdown": [
       "125375"
      ],
      "text/plain": [
       "[1] 125375"
      ]
     },
     "metadata": {},
     "output_type": "display_data"
    }
   ],
   "source": [
    "nrow(df)"
   ]
  },
  {
   "cell_type": "markdown",
   "metadata": {},
   "source": [
    "### Guardando el dataset en un nuevo archivo csv\n",
    "\n",
    "Guardamos este resultado en un csv así para el próximo preprocesamiento ya usamos diretamente este dataframe"
   ]
  },
  {
   "cell_type": "code",
   "execution_count": 21,
   "metadata": {
    "collapsed": true
   },
   "outputs": [],
   "source": [
    "write.csv(df, file = \"venta_departamentos.csv\")"
   ]
  }
 ],
 "metadata": {
  "kernelspec": {
   "display_name": "R",
   "language": "R",
   "name": "ir"
  },
  "language_info": {
   "codemirror_mode": "r",
   "file_extension": ".r",
   "mimetype": "text/x-r-source",
   "name": "R",
   "pygments_lexer": "r",
   "version": "3.3.2"
  }
 },
 "nbformat": 4,
 "nbformat_minor": 2
}
