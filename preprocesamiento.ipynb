{
 "cells": [
  {
   "cell_type": "markdown",
   "metadata": {},
   "source": [
    "# Preprocesamiento de datasets\n",
    "\n",
    "#### En esta sección tomaremos el conjunto de datasets y los iremos unificando y manipulando con la información que se considere necesaria, teniendo como resultado un solo dataset al que se le puede aplicar un modelo de machine learning."
   ]
  },
  {
   "cell_type": "markdown",
   "metadata": {},
   "source": [
    "### Cargo los archivos\n",
    "\n",
    "A continuación cargamos los csv que contiene la venta de departamentos entre el año 2007 y el 2015"
   ]
  },
  {
   "cell_type": "code",
   "execution_count": 1,
   "metadata": {
    "collapsed": true
   },
   "outputs": [],
   "source": [
    "dep2007 <- read.csv(file=\"departamentos-en-venta-2007.csv\",sep=';',header=T)\n",
    "dep2008 <- read.csv(file=\"departamentos-en-venta-2008.csv\",sep=';',header=T)\n",
    "dep2009 <- read.csv(file=\"departamentos-en-venta-2009.csv\",sep=';',header=T)\n",
    "dep2010 <- read.csv(file=\"departamentos-en-venta-2010.csv\",sep=';',header=T)\n",
    "dep2011 <- read.csv(file=\"departamentos-en-venta-2011.csv\",sep=';',header=T)\n",
    "dep2012 <- read.csv(file=\"departamentos-en-venta-2012.csv\",sep=';',header=T)\n",
    "dep2013 <- read.csv(file=\"departamentos-en-venta-2013.csv\",sep=';',header=T)\n",
    "dep2014 <- read.csv(file=\"departamentos-en-venta-2014.csv\",sep=';',header=T)\n",
    "dep2015 <- read.csv(file=\"departamentos-en-venta-2015.csv\",sep=';',header=T)"
   ]
  },
  {
   "cell_type": "markdown",
   "metadata": {},
   "source": [
    "### Comparo las columnas que tienen en común\n",
    "\n",
    "Imprimo los nombres de cada csv cargado anteriormente para observar las columnas que tienen en común y luego filtrar aquellas que no tienen en común (como una columna que contenga un csv y el otro no)"
   ]
  },
  {
   "cell_type": "code",
   "execution_count": 19,
   "metadata": {
    "collapsed": false
   },
   "outputs": [
    {
     "data": {
      "text/html": [
       "'CALLE | NUMERO | M2 | DOLARES | U_S_M2 | AMBIENTES | ANTIGUEDAD | ORIENT | BAULERA | COCHERA | BAÑOS | LAVADERO | TERRAZA | BARRIO | COMUNA | LON | LAT | X | X.1 | X.2 | X.3 | X.4 | X.5 | X.6 | X.7 | X.8 | X.9 | X.10 | X.11 | X.12'"
      ],
      "text/latex": [
       "'CALLE \\textbar{} NUMERO \\textbar{} M2 \\textbar{} DOLARES \\textbar{} U\\_S\\_M2 \\textbar{} AMBIENTES \\textbar{} ANTIGUEDAD \\textbar{} ORIENT \\textbar{} BAULERA \\textbar{} COCHERA \\textbar{} BAÑOS \\textbar{} LAVADERO \\textbar{} TERRAZA \\textbar{} BARRIO \\textbar{} COMUNA \\textbar{} LON \\textbar{} LAT \\textbar{} X \\textbar{} X.1 \\textbar{} X.2 \\textbar{} X.3 \\textbar{} X.4 \\textbar{} X.5 \\textbar{} X.6 \\textbar{} X.7 \\textbar{} X.8 \\textbar{} X.9 \\textbar{} X.10 \\textbar{} X.11 \\textbar{} X.12'"
      ],
      "text/markdown": [
       "'CALLE | NUMERO | M2 | DOLARES | U_S_M2 | AMBIENTES | ANTIGUEDAD | ORIENT | BAULERA | COCHERA | BAÑOS | LAVADERO | TERRAZA | BARRIO | COMUNA | LON | LAT | X | X.1 | X.2 | X.3 | X.4 | X.5 | X.6 | X.7 | X.8 | X.9 | X.10 | X.11 | X.12'"
      ],
      "text/plain": [
       "[1] \"CALLE | NUMERO | M2 | DOLARES | U_S_M2 | AMBIENTES | ANTIGUEDAD | ORIENT | BAULERA | COCHERA | BAÑOS | LAVADERO | TERRAZA | BARRIO | COMUNA | LON | LAT | X | X.1 | X.2 | X.3 | X.4 | X.5 | X.6 | X.7 | X.8 | X.9 | X.10 | X.11 | X.12\""
      ]
     },
     "metadata": {},
     "output_type": "display_data"
    },
    {
     "data": {
      "text/html": [
       "'CALLE | NUMERO | M2 | DOLARES | U_S_M2 | AMBIENTES | ANTIGUEDAD | ORIENT | BAULERA | COCHERA | BAÑOS | LAVADERO | TERRAZA | BARRIO | COMUNA | LON | LAT'"
      ],
      "text/latex": [
       "'CALLE \\textbar{} NUMERO \\textbar{} M2 \\textbar{} DOLARES \\textbar{} U\\_S\\_M2 \\textbar{} AMBIENTES \\textbar{} ANTIGUEDAD \\textbar{} ORIENT \\textbar{} BAULERA \\textbar{} COCHERA \\textbar{} BAÑOS \\textbar{} LAVADERO \\textbar{} TERRAZA \\textbar{} BARRIO \\textbar{} COMUNA \\textbar{} LON \\textbar{} LAT'"
      ],
      "text/markdown": [
       "'CALLE | NUMERO | M2 | DOLARES | U_S_M2 | AMBIENTES | ANTIGUEDAD | ORIENT | BAULERA | COCHERA | BAÑOS | LAVADERO | TERRAZA | BARRIO | COMUNA | LON | LAT'"
      ],
      "text/plain": [
       "[1] \"CALLE | NUMERO | M2 | DOLARES | U_S_M2 | AMBIENTES | ANTIGUEDAD | ORIENT | BAULERA | COCHERA | BAÑOS | LAVADERO | TERRAZA | BARRIO | COMUNA | LON | LAT\""
      ]
     },
     "metadata": {},
     "output_type": "display_data"
    },
    {
     "data": {
      "text/html": [
       "'CALLE | NUMERO | M2 | DOLARES | U_S_M2 | AMBIENTES | ANTIGUEDAD | ORIENT | BAULERA | COCHERA | BAÑOS | LAVADERO | TERRAZA | BARRIO | COMUNA | LON | LAT'"
      ],
      "text/latex": [
       "'CALLE \\textbar{} NUMERO \\textbar{} M2 \\textbar{} DOLARES \\textbar{} U\\_S\\_M2 \\textbar{} AMBIENTES \\textbar{} ANTIGUEDAD \\textbar{} ORIENT \\textbar{} BAULERA \\textbar{} COCHERA \\textbar{} BAÑOS \\textbar{} LAVADERO \\textbar{} TERRAZA \\textbar{} BARRIO \\textbar{} COMUNA \\textbar{} LON \\textbar{} LAT'"
      ],
      "text/markdown": [
       "'CALLE | NUMERO | M2 | DOLARES | U_S_M2 | AMBIENTES | ANTIGUEDAD | ORIENT | BAULERA | COCHERA | BAÑOS | LAVADERO | TERRAZA | BARRIO | COMUNA | LON | LAT'"
      ],
      "text/plain": [
       "[1] \"CALLE | NUMERO | M2 | DOLARES | U_S_M2 | AMBIENTES | ANTIGUEDAD | ORIENT | BAULERA | COCHERA | BAÑOS | LAVADERO | TERRAZA | BARRIO | COMUNA | LON | LAT\""
      ]
     },
     "metadata": {},
     "output_type": "display_data"
    },
    {
     "data": {
      "text/html": [
       "'CALLE | NUMERO | M2 | DOLARES | U_S_M2 | AMBIENTES | ANTIGUEDAD | ORIENT | BAULERA | COCHERA | BAÑOS | LAVADERO | TERRAZA | BARRIO | COMUNA | LON | LAT'"
      ],
      "text/latex": [
       "'CALLE \\textbar{} NUMERO \\textbar{} M2 \\textbar{} DOLARES \\textbar{} U\\_S\\_M2 \\textbar{} AMBIENTES \\textbar{} ANTIGUEDAD \\textbar{} ORIENT \\textbar{} BAULERA \\textbar{} COCHERA \\textbar{} BAÑOS \\textbar{} LAVADERO \\textbar{} TERRAZA \\textbar{} BARRIO \\textbar{} COMUNA \\textbar{} LON \\textbar{} LAT'"
      ],
      "text/markdown": [
       "'CALLE | NUMERO | M2 | DOLARES | U_S_M2 | AMBIENTES | ANTIGUEDAD | ORIENT | BAULERA | COCHERA | BAÑOS | LAVADERO | TERRAZA | BARRIO | COMUNA | LON | LAT'"
      ],
      "text/plain": [
       "[1] \"CALLE | NUMERO | M2 | DOLARES | U_S_M2 | AMBIENTES | ANTIGUEDAD | ORIENT | BAULERA | COCHERA | BAÑOS | LAVADERO | TERRAZA | BARRIO | COMUNA | LON | LAT\""
      ]
     },
     "metadata": {},
     "output_type": "display_data"
    },
    {
     "data": {
      "text/html": [
       "'CALLE | NUMERO | M2 | DOLARES | U_S_M2 | AMBIENTES | ANTIGUEDAD | ORIENT | BAULERA | COCHERA | BAÑOS | LAVADERO | TERRAZA | BARRIO | COMUNA | LON | LAT'"
      ],
      "text/latex": [
       "'CALLE \\textbar{} NUMERO \\textbar{} M2 \\textbar{} DOLARES \\textbar{} U\\_S\\_M2 \\textbar{} AMBIENTES \\textbar{} ANTIGUEDAD \\textbar{} ORIENT \\textbar{} BAULERA \\textbar{} COCHERA \\textbar{} BAÑOS \\textbar{} LAVADERO \\textbar{} TERRAZA \\textbar{} BARRIO \\textbar{} COMUNA \\textbar{} LON \\textbar{} LAT'"
      ],
      "text/markdown": [
       "'CALLE | NUMERO | M2 | DOLARES | U_S_M2 | AMBIENTES | ANTIGUEDAD | ORIENT | BAULERA | COCHERA | BAÑOS | LAVADERO | TERRAZA | BARRIO | COMUNA | LON | LAT'"
      ],
      "text/plain": [
       "[1] \"CALLE | NUMERO | M2 | DOLARES | U_S_M2 | AMBIENTES | ANTIGUEDAD | ORIENT | BAULERA | COCHERA | BAÑOS | LAVADERO | TERRAZA | BARRIO | COMUNA | LON | LAT\""
      ]
     },
     "metadata": {},
     "output_type": "display_data"
    },
    {
     "data": {
      "text/html": [
       "'CALLE | NUMERO | M2 | DOLARES | U_S_M2 | AMBIENTES | ANTIGUEDAD | ORIENT | BAULERA | COCHERA | BAÑOS | LAVADERO | TERRAZA | BARRIO | COMUNA | LON | LAT'"
      ],
      "text/latex": [
       "'CALLE \\textbar{} NUMERO \\textbar{} M2 \\textbar{} DOLARES \\textbar{} U\\_S\\_M2 \\textbar{} AMBIENTES \\textbar{} ANTIGUEDAD \\textbar{} ORIENT \\textbar{} BAULERA \\textbar{} COCHERA \\textbar{} BAÑOS \\textbar{} LAVADERO \\textbar{} TERRAZA \\textbar{} BARRIO \\textbar{} COMUNA \\textbar{} LON \\textbar{} LAT'"
      ],
      "text/markdown": [
       "'CALLE | NUMERO | M2 | DOLARES | U_S_M2 | AMBIENTES | ANTIGUEDAD | ORIENT | BAULERA | COCHERA | BAÑOS | LAVADERO | TERRAZA | BARRIO | COMUNA | LON | LAT'"
      ],
      "text/plain": [
       "[1] \"CALLE | NUMERO | M2 | DOLARES | U_S_M2 | AMBIENTES | ANTIGUEDAD | ORIENT | BAULERA | COCHERA | BAÑOS | LAVADERO | TERRAZA | BARRIO | COMUNA | LON | LAT\""
      ]
     },
     "metadata": {},
     "output_type": "display_data"
    },
    {
     "data": {
      "text/html": [
       "'CALLE | NUMERO | M2 | DOLARES | U_S_M2 | PESOS | PESOS_M2 | AMBIENTES | ANTIGUEDAD | ORIENT | BAULERA | COCHERA | BAÑOS | LAVADERO | TERRAZA | BARRIO | COMUNA | LON | LAT'"
      ],
      "text/latex": [
       "'CALLE \\textbar{} NUMERO \\textbar{} M2 \\textbar{} DOLARES \\textbar{} U\\_S\\_M2 \\textbar{} PESOS \\textbar{} PESOS\\_M2 \\textbar{} AMBIENTES \\textbar{} ANTIGUEDAD \\textbar{} ORIENT \\textbar{} BAULERA \\textbar{} COCHERA \\textbar{} BAÑOS \\textbar{} LAVADERO \\textbar{} TERRAZA \\textbar{} BARRIO \\textbar{} COMUNA \\textbar{} LON \\textbar{} LAT'"
      ],
      "text/markdown": [
       "'CALLE | NUMERO | M2 | DOLARES | U_S_M2 | PESOS | PESOS_M2 | AMBIENTES | ANTIGUEDAD | ORIENT | BAULERA | COCHERA | BAÑOS | LAVADERO | TERRAZA | BARRIO | COMUNA | LON | LAT'"
      ],
      "text/plain": [
       "[1] \"CALLE | NUMERO | M2 | DOLARES | U_S_M2 | PESOS | PESOS_M2 | AMBIENTES | ANTIGUEDAD | ORIENT | BAULERA | COCHERA | BAÑOS | LAVADERO | TERRAZA | BARRIO | COMUNA | LON | LAT\""
      ]
     },
     "metadata": {},
     "output_type": "display_data"
    },
    {
     "data": {
      "text/html": [
       "'CALLE | NUMERO | M2 | DOLARES | U_S_M2 | AMBIENTES | ANTIGUEDAD | ORIENT | BAULERA | COCHERA | BAÑOS | LAVADERO | TERRAZA | BARRIO | COMUNA | LON | LAT'"
      ],
      "text/latex": [
       "'CALLE \\textbar{} NUMERO \\textbar{} M2 \\textbar{} DOLARES \\textbar{} U\\_S\\_M2 \\textbar{} AMBIENTES \\textbar{} ANTIGUEDAD \\textbar{} ORIENT \\textbar{} BAULERA \\textbar{} COCHERA \\textbar{} BAÑOS \\textbar{} LAVADERO \\textbar{} TERRAZA \\textbar{} BARRIO \\textbar{} COMUNA \\textbar{} LON \\textbar{} LAT'"
      ],
      "text/markdown": [
       "'CALLE | NUMERO | M2 | DOLARES | U_S_M2 | AMBIENTES | ANTIGUEDAD | ORIENT | BAULERA | COCHERA | BAÑOS | LAVADERO | TERRAZA | BARRIO | COMUNA | LON | LAT'"
      ],
      "text/plain": [
       "[1] \"CALLE | NUMERO | M2 | DOLARES | U_S_M2 | AMBIENTES | ANTIGUEDAD | ORIENT | BAULERA | COCHERA | BAÑOS | LAVADERO | TERRAZA | BARRIO | COMUNA | LON | LAT\""
      ]
     },
     "metadata": {},
     "output_type": "display_data"
    },
    {
     "data": {
      "text/html": [
       "'CALLE | NUMERO | M2 | DOLARES | U_S_M2 | PISO | AMBIENTES | DORMITORIO | ANTIGUEDAD | A_ESTRENAR | FRENTE_Y_CONTRA | EDIFICACION | BAUL | COCHERA | BAÑO | LAVADERO | DEPENDENCIA | TERRAZA | OBS1 | FUENTE | DIRECCION | NOMB_CA_CO | AV_SCORE | AV_SIDE | BARRIOS | COMUNA | AREA | ZONA | DIRECCION_NORMALIZADA | BARRIO_NORMALIZADO | COMUNA_NORMALIZADA | CODIGO_POSTAL | CODIGO_POSTAL_ARGENTINO | LATITUD | LONGITUD'"
      ],
      "text/latex": [
       "'CALLE \\textbar{} NUMERO \\textbar{} M2 \\textbar{} DOLARES \\textbar{} U\\_S\\_M2 \\textbar{} PISO \\textbar{} AMBIENTES \\textbar{} DORMITORIO \\textbar{} ANTIGUEDAD \\textbar{} A\\_ESTRENAR \\textbar{} FRENTE\\_Y\\_CONTRA \\textbar{} EDIFICACION \\textbar{} BAUL \\textbar{} COCHERA \\textbar{} BAÑO \\textbar{} LAVADERO \\textbar{} DEPENDENCIA \\textbar{} TERRAZA \\textbar{} OBS1 \\textbar{} FUENTE \\textbar{} DIRECCION \\textbar{} NOMB\\_CA\\_CO \\textbar{} AV\\_SCORE \\textbar{} AV\\_SIDE \\textbar{} BARRIOS \\textbar{} COMUNA \\textbar{} AREA \\textbar{} ZONA \\textbar{} DIRECCION\\_NORMALIZADA \\textbar{} BARRIO\\_NORMALIZADO \\textbar{} COMUNA\\_NORMALIZADA \\textbar{} CODIGO\\_POSTAL \\textbar{} CODIGO\\_POSTAL\\_ARGENTINO \\textbar{} LATITUD \\textbar{} LONGITUD'"
      ],
      "text/markdown": [
       "'CALLE | NUMERO | M2 | DOLARES | U_S_M2 | PISO | AMBIENTES | DORMITORIO | ANTIGUEDAD | A_ESTRENAR | FRENTE_Y_CONTRA | EDIFICACION | BAUL | COCHERA | BAÑO | LAVADERO | DEPENDENCIA | TERRAZA | OBS1 | FUENTE | DIRECCION | NOMB_CA_CO | AV_SCORE | AV_SIDE | BARRIOS | COMUNA | AREA | ZONA | DIRECCION_NORMALIZADA | BARRIO_NORMALIZADO | COMUNA_NORMALIZADA | CODIGO_POSTAL | CODIGO_POSTAL_ARGENTINO | LATITUD | LONGITUD'"
      ],
      "text/plain": [
       "[1] \"CALLE | NUMERO | M2 | DOLARES | U_S_M2 | PISO | AMBIENTES | DORMITORIO | ANTIGUEDAD | A_ESTRENAR | FRENTE_Y_CONTRA | EDIFICACION | BAUL | COCHERA | BAÑO | LAVADERO | DEPENDENCIA | TERRAZA | OBS1 | FUENTE | DIRECCION | NOMB_CA_CO | AV_SCORE | AV_SIDE | BARRIOS | COMUNA | AREA | ZONA | DIRECCION_NORMALIZADA | BARRIO_NORMALIZADO | COMUNA_NORMALIZADA | CODIGO_POSTAL | CODIGO_POSTAL_ARGENTINO | LATITUD | LONGITUD\""
      ]
     },
     "metadata": {},
     "output_type": "display_data"
    }
   ],
   "source": [
    "paste(colnames(dep2007),collapse = ' | ')\n",
    "paste(colnames(dep2008),collapse = ' | ')\n",
    "paste(colnames(dep2009),collapse = ' | ')\n",
    "paste(colnames(dep2010),collapse = ' | ')\n",
    "paste(colnames(dep2011),collapse = ' | ')\n",
    "paste(colnames(dep2012),collapse = ' | ')\n",
    "paste(colnames(dep2013),collapse = ' | ')\n",
    "paste(colnames(dep2014),collapse = ' | ')\n",
    "paste(colnames(dep2015),collapse = ' | ')"
   ]
  },
  {
   "cell_type": "markdown",
   "metadata": {},
   "source": [
    "### Filtro por columnas en común\n",
    "\n",
    "Tomamos todos los datasets y los filtramos por las columnas que tengan en común. Es necesario renombrar algunas columnas del dataset dep2015 para que tengan el mismo nombre que las otras columnas."
   ]
  },
  {
   "cell_type": "code",
   "execution_count": 3,
   "metadata": {
    "collapsed": true
   },
   "outputs": [],
   "source": [
    "columnas <- c('CALLE','NUMERO','M2','DOLARES','U_S_M2','AMBIENTES','ANTIGUEDAD','BAULERA'\n",
    "              ,'COCHERA','BAÑOS','LAVADERO','TERRAZA','BARRIO','COMUNA','LON','LAT')"
   ]
  },
  {
   "cell_type": "code",
   "execution_count": 4,
   "metadata": {
    "collapsed": false
   },
   "outputs": [],
   "source": [
    "colnames(dep2015)[colnames(dep2015) == \"BAUL\"] <- \"BAULERA\"\n",
    "colnames(dep2015)[colnames(dep2015) == \"BAÑO\"] <- \"BAÑOS\"\n",
    "colnames(dep2015)[colnames(dep2015) == \"BARRIOS\"] <- \"BARRIO\"\n",
    "colnames(dep2015)[colnames(dep2015) == \"LONGITUD\"] <- \"LON\"\n",
    "colnames(dep2015)[colnames(dep2015) == \"LATITUD\"] <- \"LAT\""
   ]
  },
  {
   "cell_type": "code",
   "execution_count": 5,
   "metadata": {
    "collapsed": false
   },
   "outputs": [],
   "source": [
    "dep2007 <- dep2007[,which((names(dep2007) %in% columnas) == TRUE)]\n",
    "dep2008 <- dep2008[,which((names(dep2008) %in% columnas) == TRUE)]\n",
    "dep2009 <- dep2009[,which((names(dep2009) %in% columnas) == TRUE)]\n",
    "dep2010 <- dep2010[,which((names(dep2010) %in% columnas) == TRUE)]\n",
    "dep2011 <- dep2011[,which((names(dep2011) %in% columnas) == TRUE)]\n",
    "dep2012 <- dep2012[,which((names(dep2012) %in% columnas) == TRUE)]\n",
    "dep2013 <- dep2013[,which((names(dep2013) %in% columnas) == TRUE)]\n",
    "dep2014 <- dep2014[,which((names(dep2014) %in% columnas) == TRUE)]\n",
    "dep2015 <- dep2015[,which((names(dep2015) %in% columnas) == TRUE)]"
   ]
  },
  {
   "cell_type": "markdown",
   "metadata": {},
   "source": [
    "## "
   ]
  },
  {
   "cell_type": "code",
   "execution_count": 6,
   "metadata": {
    "collapsed": false
   },
   "outputs": [
    {
     "data": {
      "text/html": [
       "<ol class=list-inline>\n",
       "\t<li>'CALLE'</li>\n",
       "\t<li>'NUMERO'</li>\n",
       "\t<li>'M2'</li>\n",
       "\t<li>'DOLARES'</li>\n",
       "\t<li>'U_S_M2'</li>\n",
       "\t<li>'AMBIENTES'</li>\n",
       "\t<li>'ANTIGUEDAD'</li>\n",
       "\t<li>'BAULERA'</li>\n",
       "\t<li>'COCHERA'</li>\n",
       "\t<li>'BAÑOS'</li>\n",
       "\t<li>'LAVADERO'</li>\n",
       "\t<li>'TERRAZA'</li>\n",
       "\t<li>'BARRIO'</li>\n",
       "\t<li>'COMUNA'</li>\n",
       "\t<li>'LON'</li>\n",
       "\t<li>'LAT'</li>\n",
       "</ol>\n"
      ],
      "text/latex": [
       "\\begin{enumerate*}\n",
       "\\item 'CALLE'\n",
       "\\item 'NUMERO'\n",
       "\\item 'M2'\n",
       "\\item 'DOLARES'\n",
       "\\item 'U\\_S\\_M2'\n",
       "\\item 'AMBIENTES'\n",
       "\\item 'ANTIGUEDAD'\n",
       "\\item 'BAULERA'\n",
       "\\item 'COCHERA'\n",
       "\\item 'BAÑOS'\n",
       "\\item 'LAVADERO'\n",
       "\\item 'TERRAZA'\n",
       "\\item 'BARRIO'\n",
       "\\item 'COMUNA'\n",
       "\\item 'LON'\n",
       "\\item 'LAT'\n",
       "\\end{enumerate*}\n"
      ],
      "text/markdown": [
       "1. 'CALLE'\n",
       "2. 'NUMERO'\n",
       "3. 'M2'\n",
       "4. 'DOLARES'\n",
       "5. 'U_S_M2'\n",
       "6. 'AMBIENTES'\n",
       "7. 'ANTIGUEDAD'\n",
       "8. 'BAULERA'\n",
       "9. 'COCHERA'\n",
       "10. 'BAÑOS'\n",
       "11. 'LAVADERO'\n",
       "12. 'TERRAZA'\n",
       "13. 'BARRIO'\n",
       "14. 'COMUNA'\n",
       "15. 'LON'\n",
       "16. 'LAT'\n",
       "\n",
       "\n"
      ],
      "text/plain": [
       " [1] \"CALLE\"      \"NUMERO\"     \"M2\"         \"DOLARES\"    \"U_S_M2\"    \n",
       " [6] \"AMBIENTES\"  \"ANTIGUEDAD\" \"BAULERA\"    \"COCHERA\"    \"BAÑOS\"     \n",
       "[11] \"LAVADERO\"   \"TERRAZA\"    \"BARRIO\"     \"COMUNA\"     \"LON\"       \n",
       "[16] \"LAT\"       "
      ]
     },
     "metadata": {},
     "output_type": "display_data"
    },
    {
     "data": {
      "text/html": [
       "<ol class=list-inline>\n",
       "\t<li>'CALLE'</li>\n",
       "\t<li>'NUMERO'</li>\n",
       "\t<li>'M2'</li>\n",
       "\t<li>'DOLARES'</li>\n",
       "\t<li>'U_S_M2'</li>\n",
       "\t<li>'AMBIENTES'</li>\n",
       "\t<li>'ANTIGUEDAD'</li>\n",
       "\t<li>'BAULERA'</li>\n",
       "\t<li>'COCHERA'</li>\n",
       "\t<li>'BAÑOS'</li>\n",
       "\t<li>'LAVADERO'</li>\n",
       "\t<li>'TERRAZA'</li>\n",
       "\t<li>'BARRIO'</li>\n",
       "\t<li>'COMUNA'</li>\n",
       "\t<li>'LON'</li>\n",
       "\t<li>'LAT'</li>\n",
       "</ol>\n"
      ],
      "text/latex": [
       "\\begin{enumerate*}\n",
       "\\item 'CALLE'\n",
       "\\item 'NUMERO'\n",
       "\\item 'M2'\n",
       "\\item 'DOLARES'\n",
       "\\item 'U\\_S\\_M2'\n",
       "\\item 'AMBIENTES'\n",
       "\\item 'ANTIGUEDAD'\n",
       "\\item 'BAULERA'\n",
       "\\item 'COCHERA'\n",
       "\\item 'BAÑOS'\n",
       "\\item 'LAVADERO'\n",
       "\\item 'TERRAZA'\n",
       "\\item 'BARRIO'\n",
       "\\item 'COMUNA'\n",
       "\\item 'LON'\n",
       "\\item 'LAT'\n",
       "\\end{enumerate*}\n"
      ],
      "text/markdown": [
       "1. 'CALLE'\n",
       "2. 'NUMERO'\n",
       "3. 'M2'\n",
       "4. 'DOLARES'\n",
       "5. 'U_S_M2'\n",
       "6. 'AMBIENTES'\n",
       "7. 'ANTIGUEDAD'\n",
       "8. 'BAULERA'\n",
       "9. 'COCHERA'\n",
       "10. 'BAÑOS'\n",
       "11. 'LAVADERO'\n",
       "12. 'TERRAZA'\n",
       "13. 'BARRIO'\n",
       "14. 'COMUNA'\n",
       "15. 'LON'\n",
       "16. 'LAT'\n",
       "\n",
       "\n"
      ],
      "text/plain": [
       " [1] \"CALLE\"      \"NUMERO\"     \"M2\"         \"DOLARES\"    \"U_S_M2\"    \n",
       " [6] \"AMBIENTES\"  \"ANTIGUEDAD\" \"BAULERA\"    \"COCHERA\"    \"BAÑOS\"     \n",
       "[11] \"LAVADERO\"   \"TERRAZA\"    \"BARRIO\"     \"COMUNA\"     \"LON\"       \n",
       "[16] \"LAT\"       "
      ]
     },
     "metadata": {},
     "output_type": "display_data"
    },
    {
     "data": {
      "text/html": [
       "<ol class=list-inline>\n",
       "\t<li>'CALLE'</li>\n",
       "\t<li>'NUMERO'</li>\n",
       "\t<li>'M2'</li>\n",
       "\t<li>'DOLARES'</li>\n",
       "\t<li>'U_S_M2'</li>\n",
       "\t<li>'AMBIENTES'</li>\n",
       "\t<li>'ANTIGUEDAD'</li>\n",
       "\t<li>'BAULERA'</li>\n",
       "\t<li>'COCHERA'</li>\n",
       "\t<li>'BAÑOS'</li>\n",
       "\t<li>'LAVADERO'</li>\n",
       "\t<li>'TERRAZA'</li>\n",
       "\t<li>'BARRIO'</li>\n",
       "\t<li>'COMUNA'</li>\n",
       "\t<li>'LON'</li>\n",
       "\t<li>'LAT'</li>\n",
       "</ol>\n"
      ],
      "text/latex": [
       "\\begin{enumerate*}\n",
       "\\item 'CALLE'\n",
       "\\item 'NUMERO'\n",
       "\\item 'M2'\n",
       "\\item 'DOLARES'\n",
       "\\item 'U\\_S\\_M2'\n",
       "\\item 'AMBIENTES'\n",
       "\\item 'ANTIGUEDAD'\n",
       "\\item 'BAULERA'\n",
       "\\item 'COCHERA'\n",
       "\\item 'BAÑOS'\n",
       "\\item 'LAVADERO'\n",
       "\\item 'TERRAZA'\n",
       "\\item 'BARRIO'\n",
       "\\item 'COMUNA'\n",
       "\\item 'LON'\n",
       "\\item 'LAT'\n",
       "\\end{enumerate*}\n"
      ],
      "text/markdown": [
       "1. 'CALLE'\n",
       "2. 'NUMERO'\n",
       "3. 'M2'\n",
       "4. 'DOLARES'\n",
       "5. 'U_S_M2'\n",
       "6. 'AMBIENTES'\n",
       "7. 'ANTIGUEDAD'\n",
       "8. 'BAULERA'\n",
       "9. 'COCHERA'\n",
       "10. 'BAÑOS'\n",
       "11. 'LAVADERO'\n",
       "12. 'TERRAZA'\n",
       "13. 'BARRIO'\n",
       "14. 'COMUNA'\n",
       "15. 'LON'\n",
       "16. 'LAT'\n",
       "\n",
       "\n"
      ],
      "text/plain": [
       " [1] \"CALLE\"      \"NUMERO\"     \"M2\"         \"DOLARES\"    \"U_S_M2\"    \n",
       " [6] \"AMBIENTES\"  \"ANTIGUEDAD\" \"BAULERA\"    \"COCHERA\"    \"BAÑOS\"     \n",
       "[11] \"LAVADERO\"   \"TERRAZA\"    \"BARRIO\"     \"COMUNA\"     \"LON\"       \n",
       "[16] \"LAT\"       "
      ]
     },
     "metadata": {},
     "output_type": "display_data"
    },
    {
     "data": {
      "text/html": [
       "<ol class=list-inline>\n",
       "\t<li>'CALLE'</li>\n",
       "\t<li>'NUMERO'</li>\n",
       "\t<li>'M2'</li>\n",
       "\t<li>'DOLARES'</li>\n",
       "\t<li>'U_S_M2'</li>\n",
       "\t<li>'AMBIENTES'</li>\n",
       "\t<li>'ANTIGUEDAD'</li>\n",
       "\t<li>'BAULERA'</li>\n",
       "\t<li>'COCHERA'</li>\n",
       "\t<li>'BAÑOS'</li>\n",
       "\t<li>'LAVADERO'</li>\n",
       "\t<li>'TERRAZA'</li>\n",
       "\t<li>'BARRIO'</li>\n",
       "\t<li>'COMUNA'</li>\n",
       "\t<li>'LON'</li>\n",
       "\t<li>'LAT'</li>\n",
       "</ol>\n"
      ],
      "text/latex": [
       "\\begin{enumerate*}\n",
       "\\item 'CALLE'\n",
       "\\item 'NUMERO'\n",
       "\\item 'M2'\n",
       "\\item 'DOLARES'\n",
       "\\item 'U\\_S\\_M2'\n",
       "\\item 'AMBIENTES'\n",
       "\\item 'ANTIGUEDAD'\n",
       "\\item 'BAULERA'\n",
       "\\item 'COCHERA'\n",
       "\\item 'BAÑOS'\n",
       "\\item 'LAVADERO'\n",
       "\\item 'TERRAZA'\n",
       "\\item 'BARRIO'\n",
       "\\item 'COMUNA'\n",
       "\\item 'LON'\n",
       "\\item 'LAT'\n",
       "\\end{enumerate*}\n"
      ],
      "text/markdown": [
       "1. 'CALLE'\n",
       "2. 'NUMERO'\n",
       "3. 'M2'\n",
       "4. 'DOLARES'\n",
       "5. 'U_S_M2'\n",
       "6. 'AMBIENTES'\n",
       "7. 'ANTIGUEDAD'\n",
       "8. 'BAULERA'\n",
       "9. 'COCHERA'\n",
       "10. 'BAÑOS'\n",
       "11. 'LAVADERO'\n",
       "12. 'TERRAZA'\n",
       "13. 'BARRIO'\n",
       "14. 'COMUNA'\n",
       "15. 'LON'\n",
       "16. 'LAT'\n",
       "\n",
       "\n"
      ],
      "text/plain": [
       " [1] \"CALLE\"      \"NUMERO\"     \"M2\"         \"DOLARES\"    \"U_S_M2\"    \n",
       " [6] \"AMBIENTES\"  \"ANTIGUEDAD\" \"BAULERA\"    \"COCHERA\"    \"BAÑOS\"     \n",
       "[11] \"LAVADERO\"   \"TERRAZA\"    \"BARRIO\"     \"COMUNA\"     \"LON\"       \n",
       "[16] \"LAT\"       "
      ]
     },
     "metadata": {},
     "output_type": "display_data"
    },
    {
     "data": {
      "text/html": [
       "<ol class=list-inline>\n",
       "\t<li>'CALLE'</li>\n",
       "\t<li>'NUMERO'</li>\n",
       "\t<li>'M2'</li>\n",
       "\t<li>'DOLARES'</li>\n",
       "\t<li>'U_S_M2'</li>\n",
       "\t<li>'AMBIENTES'</li>\n",
       "\t<li>'ANTIGUEDAD'</li>\n",
       "\t<li>'BAULERA'</li>\n",
       "\t<li>'COCHERA'</li>\n",
       "\t<li>'BAÑOS'</li>\n",
       "\t<li>'LAVADERO'</li>\n",
       "\t<li>'TERRAZA'</li>\n",
       "\t<li>'BARRIO'</li>\n",
       "\t<li>'COMUNA'</li>\n",
       "\t<li>'LON'</li>\n",
       "\t<li>'LAT'</li>\n",
       "</ol>\n"
      ],
      "text/latex": [
       "\\begin{enumerate*}\n",
       "\\item 'CALLE'\n",
       "\\item 'NUMERO'\n",
       "\\item 'M2'\n",
       "\\item 'DOLARES'\n",
       "\\item 'U\\_S\\_M2'\n",
       "\\item 'AMBIENTES'\n",
       "\\item 'ANTIGUEDAD'\n",
       "\\item 'BAULERA'\n",
       "\\item 'COCHERA'\n",
       "\\item 'BAÑOS'\n",
       "\\item 'LAVADERO'\n",
       "\\item 'TERRAZA'\n",
       "\\item 'BARRIO'\n",
       "\\item 'COMUNA'\n",
       "\\item 'LON'\n",
       "\\item 'LAT'\n",
       "\\end{enumerate*}\n"
      ],
      "text/markdown": [
       "1. 'CALLE'\n",
       "2. 'NUMERO'\n",
       "3. 'M2'\n",
       "4. 'DOLARES'\n",
       "5. 'U_S_M2'\n",
       "6. 'AMBIENTES'\n",
       "7. 'ANTIGUEDAD'\n",
       "8. 'BAULERA'\n",
       "9. 'COCHERA'\n",
       "10. 'BAÑOS'\n",
       "11. 'LAVADERO'\n",
       "12. 'TERRAZA'\n",
       "13. 'BARRIO'\n",
       "14. 'COMUNA'\n",
       "15. 'LON'\n",
       "16. 'LAT'\n",
       "\n",
       "\n"
      ],
      "text/plain": [
       " [1] \"CALLE\"      \"NUMERO\"     \"M2\"         \"DOLARES\"    \"U_S_M2\"    \n",
       " [6] \"AMBIENTES\"  \"ANTIGUEDAD\" \"BAULERA\"    \"COCHERA\"    \"BAÑOS\"     \n",
       "[11] \"LAVADERO\"   \"TERRAZA\"    \"BARRIO\"     \"COMUNA\"     \"LON\"       \n",
       "[16] \"LAT\"       "
      ]
     },
     "metadata": {},
     "output_type": "display_data"
    },
    {
     "data": {
      "text/html": [
       "<ol class=list-inline>\n",
       "\t<li>'CALLE'</li>\n",
       "\t<li>'NUMERO'</li>\n",
       "\t<li>'M2'</li>\n",
       "\t<li>'DOLARES'</li>\n",
       "\t<li>'U_S_M2'</li>\n",
       "\t<li>'AMBIENTES'</li>\n",
       "\t<li>'ANTIGUEDAD'</li>\n",
       "\t<li>'BAULERA'</li>\n",
       "\t<li>'COCHERA'</li>\n",
       "\t<li>'BAÑOS'</li>\n",
       "\t<li>'LAVADERO'</li>\n",
       "\t<li>'TERRAZA'</li>\n",
       "\t<li>'BARRIO'</li>\n",
       "\t<li>'COMUNA'</li>\n",
       "\t<li>'LON'</li>\n",
       "\t<li>'LAT'</li>\n",
       "</ol>\n"
      ],
      "text/latex": [
       "\\begin{enumerate*}\n",
       "\\item 'CALLE'\n",
       "\\item 'NUMERO'\n",
       "\\item 'M2'\n",
       "\\item 'DOLARES'\n",
       "\\item 'U\\_S\\_M2'\n",
       "\\item 'AMBIENTES'\n",
       "\\item 'ANTIGUEDAD'\n",
       "\\item 'BAULERA'\n",
       "\\item 'COCHERA'\n",
       "\\item 'BAÑOS'\n",
       "\\item 'LAVADERO'\n",
       "\\item 'TERRAZA'\n",
       "\\item 'BARRIO'\n",
       "\\item 'COMUNA'\n",
       "\\item 'LON'\n",
       "\\item 'LAT'\n",
       "\\end{enumerate*}\n"
      ],
      "text/markdown": [
       "1. 'CALLE'\n",
       "2. 'NUMERO'\n",
       "3. 'M2'\n",
       "4. 'DOLARES'\n",
       "5. 'U_S_M2'\n",
       "6. 'AMBIENTES'\n",
       "7. 'ANTIGUEDAD'\n",
       "8. 'BAULERA'\n",
       "9. 'COCHERA'\n",
       "10. 'BAÑOS'\n",
       "11. 'LAVADERO'\n",
       "12. 'TERRAZA'\n",
       "13. 'BARRIO'\n",
       "14. 'COMUNA'\n",
       "15. 'LON'\n",
       "16. 'LAT'\n",
       "\n",
       "\n"
      ],
      "text/plain": [
       " [1] \"CALLE\"      \"NUMERO\"     \"M2\"         \"DOLARES\"    \"U_S_M2\"    \n",
       " [6] \"AMBIENTES\"  \"ANTIGUEDAD\" \"BAULERA\"    \"COCHERA\"    \"BAÑOS\"     \n",
       "[11] \"LAVADERO\"   \"TERRAZA\"    \"BARRIO\"     \"COMUNA\"     \"LON\"       \n",
       "[16] \"LAT\"       "
      ]
     },
     "metadata": {},
     "output_type": "display_data"
    },
    {
     "data": {
      "text/html": [
       "<ol class=list-inline>\n",
       "\t<li>'CALLE'</li>\n",
       "\t<li>'NUMERO'</li>\n",
       "\t<li>'M2'</li>\n",
       "\t<li>'DOLARES'</li>\n",
       "\t<li>'U_S_M2'</li>\n",
       "\t<li>'AMBIENTES'</li>\n",
       "\t<li>'ANTIGUEDAD'</li>\n",
       "\t<li>'BAULERA'</li>\n",
       "\t<li>'COCHERA'</li>\n",
       "\t<li>'BAÑOS'</li>\n",
       "\t<li>'LAVADERO'</li>\n",
       "\t<li>'TERRAZA'</li>\n",
       "\t<li>'BARRIO'</li>\n",
       "\t<li>'COMUNA'</li>\n",
       "\t<li>'LON'</li>\n",
       "\t<li>'LAT'</li>\n",
       "</ol>\n"
      ],
      "text/latex": [
       "\\begin{enumerate*}\n",
       "\\item 'CALLE'\n",
       "\\item 'NUMERO'\n",
       "\\item 'M2'\n",
       "\\item 'DOLARES'\n",
       "\\item 'U\\_S\\_M2'\n",
       "\\item 'AMBIENTES'\n",
       "\\item 'ANTIGUEDAD'\n",
       "\\item 'BAULERA'\n",
       "\\item 'COCHERA'\n",
       "\\item 'BAÑOS'\n",
       "\\item 'LAVADERO'\n",
       "\\item 'TERRAZA'\n",
       "\\item 'BARRIO'\n",
       "\\item 'COMUNA'\n",
       "\\item 'LON'\n",
       "\\item 'LAT'\n",
       "\\end{enumerate*}\n"
      ],
      "text/markdown": [
       "1. 'CALLE'\n",
       "2. 'NUMERO'\n",
       "3. 'M2'\n",
       "4. 'DOLARES'\n",
       "5. 'U_S_M2'\n",
       "6. 'AMBIENTES'\n",
       "7. 'ANTIGUEDAD'\n",
       "8. 'BAULERA'\n",
       "9. 'COCHERA'\n",
       "10. 'BAÑOS'\n",
       "11. 'LAVADERO'\n",
       "12. 'TERRAZA'\n",
       "13. 'BARRIO'\n",
       "14. 'COMUNA'\n",
       "15. 'LON'\n",
       "16. 'LAT'\n",
       "\n",
       "\n"
      ],
      "text/plain": [
       " [1] \"CALLE\"      \"NUMERO\"     \"M2\"         \"DOLARES\"    \"U_S_M2\"    \n",
       " [6] \"AMBIENTES\"  \"ANTIGUEDAD\" \"BAULERA\"    \"COCHERA\"    \"BAÑOS\"     \n",
       "[11] \"LAVADERO\"   \"TERRAZA\"    \"BARRIO\"     \"COMUNA\"     \"LON\"       \n",
       "[16] \"LAT\"       "
      ]
     },
     "metadata": {},
     "output_type": "display_data"
    },
    {
     "data": {
      "text/html": [
       "<ol class=list-inline>\n",
       "\t<li>'CALLE'</li>\n",
       "\t<li>'NUMERO'</li>\n",
       "\t<li>'M2'</li>\n",
       "\t<li>'DOLARES'</li>\n",
       "\t<li>'U_S_M2'</li>\n",
       "\t<li>'AMBIENTES'</li>\n",
       "\t<li>'ANTIGUEDAD'</li>\n",
       "\t<li>'BAULERA'</li>\n",
       "\t<li>'COCHERA'</li>\n",
       "\t<li>'BAÑOS'</li>\n",
       "\t<li>'LAVADERO'</li>\n",
       "\t<li>'TERRAZA'</li>\n",
       "\t<li>'BARRIO'</li>\n",
       "\t<li>'COMUNA'</li>\n",
       "\t<li>'LON'</li>\n",
       "\t<li>'LAT'</li>\n",
       "</ol>\n"
      ],
      "text/latex": [
       "\\begin{enumerate*}\n",
       "\\item 'CALLE'\n",
       "\\item 'NUMERO'\n",
       "\\item 'M2'\n",
       "\\item 'DOLARES'\n",
       "\\item 'U\\_S\\_M2'\n",
       "\\item 'AMBIENTES'\n",
       "\\item 'ANTIGUEDAD'\n",
       "\\item 'BAULERA'\n",
       "\\item 'COCHERA'\n",
       "\\item 'BAÑOS'\n",
       "\\item 'LAVADERO'\n",
       "\\item 'TERRAZA'\n",
       "\\item 'BARRIO'\n",
       "\\item 'COMUNA'\n",
       "\\item 'LON'\n",
       "\\item 'LAT'\n",
       "\\end{enumerate*}\n"
      ],
      "text/markdown": [
       "1. 'CALLE'\n",
       "2. 'NUMERO'\n",
       "3. 'M2'\n",
       "4. 'DOLARES'\n",
       "5. 'U_S_M2'\n",
       "6. 'AMBIENTES'\n",
       "7. 'ANTIGUEDAD'\n",
       "8. 'BAULERA'\n",
       "9. 'COCHERA'\n",
       "10. 'BAÑOS'\n",
       "11. 'LAVADERO'\n",
       "12. 'TERRAZA'\n",
       "13. 'BARRIO'\n",
       "14. 'COMUNA'\n",
       "15. 'LON'\n",
       "16. 'LAT'\n",
       "\n",
       "\n"
      ],
      "text/plain": [
       " [1] \"CALLE\"      \"NUMERO\"     \"M2\"         \"DOLARES\"    \"U_S_M2\"    \n",
       " [6] \"AMBIENTES\"  \"ANTIGUEDAD\" \"BAULERA\"    \"COCHERA\"    \"BAÑOS\"     \n",
       "[11] \"LAVADERO\"   \"TERRAZA\"    \"BARRIO\"     \"COMUNA\"     \"LON\"       \n",
       "[16] \"LAT\"       "
      ]
     },
     "metadata": {},
     "output_type": "display_data"
    },
    {
     "data": {
      "text/html": [
       "<ol class=list-inline>\n",
       "\t<li>'CALLE'</li>\n",
       "\t<li>'NUMERO'</li>\n",
       "\t<li>'M2'</li>\n",
       "\t<li>'DOLARES'</li>\n",
       "\t<li>'U_S_M2'</li>\n",
       "\t<li>'AMBIENTES'</li>\n",
       "\t<li>'ANTIGUEDAD'</li>\n",
       "\t<li>'BAULERA'</li>\n",
       "\t<li>'COCHERA'</li>\n",
       "\t<li>'BAÑOS'</li>\n",
       "\t<li>'LAVADERO'</li>\n",
       "\t<li>'TERRAZA'</li>\n",
       "\t<li>'BARRIO'</li>\n",
       "\t<li>'COMUNA'</li>\n",
       "\t<li>'LAT'</li>\n",
       "\t<li>'LON'</li>\n",
       "</ol>\n"
      ],
      "text/latex": [
       "\\begin{enumerate*}\n",
       "\\item 'CALLE'\n",
       "\\item 'NUMERO'\n",
       "\\item 'M2'\n",
       "\\item 'DOLARES'\n",
       "\\item 'U\\_S\\_M2'\n",
       "\\item 'AMBIENTES'\n",
       "\\item 'ANTIGUEDAD'\n",
       "\\item 'BAULERA'\n",
       "\\item 'COCHERA'\n",
       "\\item 'BAÑOS'\n",
       "\\item 'LAVADERO'\n",
       "\\item 'TERRAZA'\n",
       "\\item 'BARRIO'\n",
       "\\item 'COMUNA'\n",
       "\\item 'LAT'\n",
       "\\item 'LON'\n",
       "\\end{enumerate*}\n"
      ],
      "text/markdown": [
       "1. 'CALLE'\n",
       "2. 'NUMERO'\n",
       "3. 'M2'\n",
       "4. 'DOLARES'\n",
       "5. 'U_S_M2'\n",
       "6. 'AMBIENTES'\n",
       "7. 'ANTIGUEDAD'\n",
       "8. 'BAULERA'\n",
       "9. 'COCHERA'\n",
       "10. 'BAÑOS'\n",
       "11. 'LAVADERO'\n",
       "12. 'TERRAZA'\n",
       "13. 'BARRIO'\n",
       "14. 'COMUNA'\n",
       "15. 'LAT'\n",
       "16. 'LON'\n",
       "\n",
       "\n"
      ],
      "text/plain": [
       " [1] \"CALLE\"      \"NUMERO\"     \"M2\"         \"DOLARES\"    \"U_S_M2\"    \n",
       " [6] \"AMBIENTES\"  \"ANTIGUEDAD\" \"BAULERA\"    \"COCHERA\"    \"BAÑOS\"     \n",
       "[11] \"LAVADERO\"   \"TERRAZA\"    \"BARRIO\"     \"COMUNA\"     \"LAT\"       \n",
       "[16] \"LON\"       "
      ]
     },
     "metadata": {},
     "output_type": "display_data"
    }
   ],
   "source": [
    "colnames(dep2007)\n",
    "colnames(dep2008)\n",
    "colnames(dep2009)\n",
    "colnames(dep2010)\n",
    "colnames(dep2011)\n",
    "colnames(dep2012)\n",
    "colnames(dep2013)\n",
    "colnames(dep2014)\n",
    "colnames(dep2015)"
   ]
  }
 ],
 "metadata": {
  "kernelspec": {
   "display_name": "R",
   "language": "R",
   "name": "ir"
  },
  "language_info": {
   "codemirror_mode": "r",
   "file_extension": ".r",
   "mimetype": "text/x-r-source",
   "name": "R",
   "pygments_lexer": "r",
   "version": "3.3.2"
  }
 },
 "nbformat": 4,
 "nbformat_minor": 2
}
